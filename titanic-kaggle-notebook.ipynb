{
 "cells": [
  {
   "cell_type": "code",
   "execution_count": 1,
   "id": "48c1e5ae",
   "metadata": {
    "_cell_guid": "b1076dfc-b9ad-4769-8c92-a6c4dae69d19",
    "_uuid": "8f2839f25d086af736a60e9eeb907d3b93b6e0e5",
    "execution": {
     "iopub.execute_input": "2022-09-17T01:43:39.465015Z",
     "iopub.status.busy": "2022-09-17T01:43:39.464539Z",
     "iopub.status.idle": "2022-09-17T01:43:48.021088Z",
     "shell.execute_reply": "2022-09-17T01:43:48.019747Z"
    },
    "papermill": {
     "duration": 8.580824,
     "end_time": "2022-09-17T01:43:48.024011",
     "exception": false,
     "start_time": "2022-09-17T01:43:39.443187",
     "status": "completed"
    },
    "tags": []
   },
   "outputs": [
    {
     "name": "stdout",
     "output_type": "stream",
     "text": [
      "/kaggle/input/titanic/train.csv\n",
      "/kaggle/input/titanic/test.csv\n",
      "/kaggle/input/titanic/gender_submission.csv\n"
     ]
    }
   ],
   "source": [
    "# This Python 3 environment comes with many helpful analytics libraries installed\n",
    "# It is defined by the kaggle/python Docker image: https://github.com/kaggle/docker-python\n",
    "# For example, here's several helpful packages to load\n",
    "\n",
    "import numpy as np # linear algebra\n",
    "import pandas as pd # data processing, CSV file I/O (e.g. pd.read_csv)\n",
    "import matplotlib.pyplot as plt\n",
    "import seaborn as sns\n",
    "import tensorflow as tf\n",
    "from sklearn.preprocessing import StandardScaler, LabelEncoder\n",
    "from sklearn.model_selection import StratifiedKFold, GridSearchCV, train_test_split\n",
    "from sklearn.linear_model import LogisticRegression\n",
    "from sklearn.pipeline import Pipeline\n",
    "from sklearn.metrics import f1_score, accuracy_score\n",
    "from xgboost import XGBClassifier\n",
    "from sklearn.ensemble import RandomForestClassifier\n",
    "from tensorflow.keras.models import Sequential\n",
    "from tensorflow.keras.layers import Dense\n",
    "from tensorflow.keras.activations import relu, sigmoid\n",
    "\n",
    "# Input data files are available in the read-only \"../input/\" directory\n",
    "# For example, running this (by clicking run or pressing Shift+Enter) will list all files under the input directory\n",
    "\n",
    "import os\n",
    "for dirname, _, filenames in os.walk('/kaggle/input'):\n",
    "    for filename in filenames:\n",
    "        print(os.path.join(dirname, filename))\n",
    "\n",
    "# You can write up to 20GB to the current directory (/kaggle/working/) that gets preserved as output when you create a version using \"Save & Run All\" \n",
    "# You can also write temporary files to /kaggle/temp/, but they won't be saved outside of the current session"
   ]
  },
  {
   "cell_type": "markdown",
   "id": "9c97254e",
   "metadata": {
    "papermill": {
     "duration": 0.016443,
     "end_time": "2022-09-17T01:43:48.060161",
     "exception": false,
     "start_time": "2022-09-17T01:43:48.043718",
     "status": "completed"
    },
    "tags": []
   },
   "source": [
    "# Loading the data"
   ]
  },
  {
   "cell_type": "code",
   "execution_count": 2,
   "id": "b780717d",
   "metadata": {
    "execution": {
     "iopub.execute_input": "2022-09-17T01:43:48.096843Z",
     "iopub.status.busy": "2022-09-17T01:43:48.095746Z",
     "iopub.status.idle": "2022-09-17T01:43:48.140441Z",
     "shell.execute_reply": "2022-09-17T01:43:48.139162Z"
    },
    "papermill": {
     "duration": 0.065742,
     "end_time": "2022-09-17T01:43:48.143011",
     "exception": false,
     "start_time": "2022-09-17T01:43:48.077269",
     "status": "completed"
    },
    "tags": []
   },
   "outputs": [
    {
     "data": {
      "text/html": [
       "<div>\n",
       "<style scoped>\n",
       "    .dataframe tbody tr th:only-of-type {\n",
       "        vertical-align: middle;\n",
       "    }\n",
       "\n",
       "    .dataframe tbody tr th {\n",
       "        vertical-align: top;\n",
       "    }\n",
       "\n",
       "    .dataframe thead th {\n",
       "        text-align: right;\n",
       "    }\n",
       "</style>\n",
       "<table border=\"1\" class=\"dataframe\">\n",
       "  <thead>\n",
       "    <tr style=\"text-align: right;\">\n",
       "      <th></th>\n",
       "      <th>PassengerId</th>\n",
       "      <th>Survived</th>\n",
       "      <th>Pclass</th>\n",
       "      <th>Name</th>\n",
       "      <th>Sex</th>\n",
       "      <th>Age</th>\n",
       "      <th>SibSp</th>\n",
       "      <th>Parch</th>\n",
       "      <th>Ticket</th>\n",
       "      <th>Fare</th>\n",
       "      <th>Cabin</th>\n",
       "      <th>Embarked</th>\n",
       "    </tr>\n",
       "  </thead>\n",
       "  <tbody>\n",
       "    <tr>\n",
       "      <th>0</th>\n",
       "      <td>1</td>\n",
       "      <td>0</td>\n",
       "      <td>3</td>\n",
       "      <td>Braund, Mr. Owen Harris</td>\n",
       "      <td>male</td>\n",
       "      <td>22.0</td>\n",
       "      <td>1</td>\n",
       "      <td>0</td>\n",
       "      <td>A/5 21171</td>\n",
       "      <td>7.2500</td>\n",
       "      <td>NaN</td>\n",
       "      <td>S</td>\n",
       "    </tr>\n",
       "    <tr>\n",
       "      <th>1</th>\n",
       "      <td>2</td>\n",
       "      <td>1</td>\n",
       "      <td>1</td>\n",
       "      <td>Cumings, Mrs. John Bradley (Florence Briggs Th...</td>\n",
       "      <td>female</td>\n",
       "      <td>38.0</td>\n",
       "      <td>1</td>\n",
       "      <td>0</td>\n",
       "      <td>PC 17599</td>\n",
       "      <td>71.2833</td>\n",
       "      <td>C85</td>\n",
       "      <td>C</td>\n",
       "    </tr>\n",
       "    <tr>\n",
       "      <th>2</th>\n",
       "      <td>3</td>\n",
       "      <td>1</td>\n",
       "      <td>3</td>\n",
       "      <td>Heikkinen, Miss. Laina</td>\n",
       "      <td>female</td>\n",
       "      <td>26.0</td>\n",
       "      <td>0</td>\n",
       "      <td>0</td>\n",
       "      <td>STON/O2. 3101282</td>\n",
       "      <td>7.9250</td>\n",
       "      <td>NaN</td>\n",
       "      <td>S</td>\n",
       "    </tr>\n",
       "    <tr>\n",
       "      <th>3</th>\n",
       "      <td>4</td>\n",
       "      <td>1</td>\n",
       "      <td>1</td>\n",
       "      <td>Futrelle, Mrs. Jacques Heath (Lily May Peel)</td>\n",
       "      <td>female</td>\n",
       "      <td>35.0</td>\n",
       "      <td>1</td>\n",
       "      <td>0</td>\n",
       "      <td>113803</td>\n",
       "      <td>53.1000</td>\n",
       "      <td>C123</td>\n",
       "      <td>S</td>\n",
       "    </tr>\n",
       "    <tr>\n",
       "      <th>4</th>\n",
       "      <td>5</td>\n",
       "      <td>0</td>\n",
       "      <td>3</td>\n",
       "      <td>Allen, Mr. William Henry</td>\n",
       "      <td>male</td>\n",
       "      <td>35.0</td>\n",
       "      <td>0</td>\n",
       "      <td>0</td>\n",
       "      <td>373450</td>\n",
       "      <td>8.0500</td>\n",
       "      <td>NaN</td>\n",
       "      <td>S</td>\n",
       "    </tr>\n",
       "  </tbody>\n",
       "</table>\n",
       "</div>"
      ],
      "text/plain": [
       "   PassengerId  Survived  Pclass  \\\n",
       "0            1         0       3   \n",
       "1            2         1       1   \n",
       "2            3         1       3   \n",
       "3            4         1       1   \n",
       "4            5         0       3   \n",
       "\n",
       "                                                Name     Sex   Age  SibSp  \\\n",
       "0                            Braund, Mr. Owen Harris    male  22.0      1   \n",
       "1  Cumings, Mrs. John Bradley (Florence Briggs Th...  female  38.0      1   \n",
       "2                             Heikkinen, Miss. Laina  female  26.0      0   \n",
       "3       Futrelle, Mrs. Jacques Heath (Lily May Peel)  female  35.0      1   \n",
       "4                           Allen, Mr. William Henry    male  35.0      0   \n",
       "\n",
       "   Parch            Ticket     Fare Cabin Embarked  \n",
       "0      0         A/5 21171   7.2500   NaN        S  \n",
       "1      0          PC 17599  71.2833   C85        C  \n",
       "2      0  STON/O2. 3101282   7.9250   NaN        S  \n",
       "3      0            113803  53.1000  C123        S  \n",
       "4      0            373450   8.0500   NaN        S  "
      ]
     },
     "execution_count": 2,
     "metadata": {},
     "output_type": "execute_result"
    }
   ],
   "source": [
    "train_data = pd.read_csv('/kaggle/input/titanic/train.csv')\n",
    "train_data.head()"
   ]
  },
  {
   "cell_type": "code",
   "execution_count": 3,
   "id": "39ac66d6",
   "metadata": {
    "execution": {
     "iopub.execute_input": "2022-09-17T01:43:48.179579Z",
     "iopub.status.busy": "2022-09-17T01:43:48.179185Z",
     "iopub.status.idle": "2022-09-17T01:43:48.203877Z",
     "shell.execute_reply": "2022-09-17T01:43:48.202610Z"
    },
    "papermill": {
     "duration": 0.046181,
     "end_time": "2022-09-17T01:43:48.206473",
     "exception": false,
     "start_time": "2022-09-17T01:43:48.160292",
     "status": "completed"
    },
    "tags": []
   },
   "outputs": [
    {
     "data": {
      "text/html": [
       "<div>\n",
       "<style scoped>\n",
       "    .dataframe tbody tr th:only-of-type {\n",
       "        vertical-align: middle;\n",
       "    }\n",
       "\n",
       "    .dataframe tbody tr th {\n",
       "        vertical-align: top;\n",
       "    }\n",
       "\n",
       "    .dataframe thead th {\n",
       "        text-align: right;\n",
       "    }\n",
       "</style>\n",
       "<table border=\"1\" class=\"dataframe\">\n",
       "  <thead>\n",
       "    <tr style=\"text-align: right;\">\n",
       "      <th></th>\n",
       "      <th>PassengerId</th>\n",
       "      <th>Pclass</th>\n",
       "      <th>Name</th>\n",
       "      <th>Sex</th>\n",
       "      <th>Age</th>\n",
       "      <th>SibSp</th>\n",
       "      <th>Parch</th>\n",
       "      <th>Ticket</th>\n",
       "      <th>Fare</th>\n",
       "      <th>Cabin</th>\n",
       "      <th>Embarked</th>\n",
       "    </tr>\n",
       "  </thead>\n",
       "  <tbody>\n",
       "    <tr>\n",
       "      <th>0</th>\n",
       "      <td>892</td>\n",
       "      <td>3</td>\n",
       "      <td>Kelly, Mr. James</td>\n",
       "      <td>male</td>\n",
       "      <td>34.5</td>\n",
       "      <td>0</td>\n",
       "      <td>0</td>\n",
       "      <td>330911</td>\n",
       "      <td>7.8292</td>\n",
       "      <td>NaN</td>\n",
       "      <td>Q</td>\n",
       "    </tr>\n",
       "    <tr>\n",
       "      <th>1</th>\n",
       "      <td>893</td>\n",
       "      <td>3</td>\n",
       "      <td>Wilkes, Mrs. James (Ellen Needs)</td>\n",
       "      <td>female</td>\n",
       "      <td>47.0</td>\n",
       "      <td>1</td>\n",
       "      <td>0</td>\n",
       "      <td>363272</td>\n",
       "      <td>7.0000</td>\n",
       "      <td>NaN</td>\n",
       "      <td>S</td>\n",
       "    </tr>\n",
       "    <tr>\n",
       "      <th>2</th>\n",
       "      <td>894</td>\n",
       "      <td>2</td>\n",
       "      <td>Myles, Mr. Thomas Francis</td>\n",
       "      <td>male</td>\n",
       "      <td>62.0</td>\n",
       "      <td>0</td>\n",
       "      <td>0</td>\n",
       "      <td>240276</td>\n",
       "      <td>9.6875</td>\n",
       "      <td>NaN</td>\n",
       "      <td>Q</td>\n",
       "    </tr>\n",
       "    <tr>\n",
       "      <th>3</th>\n",
       "      <td>895</td>\n",
       "      <td>3</td>\n",
       "      <td>Wirz, Mr. Albert</td>\n",
       "      <td>male</td>\n",
       "      <td>27.0</td>\n",
       "      <td>0</td>\n",
       "      <td>0</td>\n",
       "      <td>315154</td>\n",
       "      <td>8.6625</td>\n",
       "      <td>NaN</td>\n",
       "      <td>S</td>\n",
       "    </tr>\n",
       "    <tr>\n",
       "      <th>4</th>\n",
       "      <td>896</td>\n",
       "      <td>3</td>\n",
       "      <td>Hirvonen, Mrs. Alexander (Helga E Lindqvist)</td>\n",
       "      <td>female</td>\n",
       "      <td>22.0</td>\n",
       "      <td>1</td>\n",
       "      <td>1</td>\n",
       "      <td>3101298</td>\n",
       "      <td>12.2875</td>\n",
       "      <td>NaN</td>\n",
       "      <td>S</td>\n",
       "    </tr>\n",
       "  </tbody>\n",
       "</table>\n",
       "</div>"
      ],
      "text/plain": [
       "   PassengerId  Pclass                                          Name     Sex  \\\n",
       "0          892       3                              Kelly, Mr. James    male   \n",
       "1          893       3              Wilkes, Mrs. James (Ellen Needs)  female   \n",
       "2          894       2                     Myles, Mr. Thomas Francis    male   \n",
       "3          895       3                              Wirz, Mr. Albert    male   \n",
       "4          896       3  Hirvonen, Mrs. Alexander (Helga E Lindqvist)  female   \n",
       "\n",
       "    Age  SibSp  Parch   Ticket     Fare Cabin Embarked  \n",
       "0  34.5      0      0   330911   7.8292   NaN        Q  \n",
       "1  47.0      1      0   363272   7.0000   NaN        S  \n",
       "2  62.0      0      0   240276   9.6875   NaN        Q  \n",
       "3  27.0      0      0   315154   8.6625   NaN        S  \n",
       "4  22.0      1      1  3101298  12.2875   NaN        S  "
      ]
     },
     "execution_count": 3,
     "metadata": {},
     "output_type": "execute_result"
    }
   ],
   "source": [
    "test_data = pd.read_csv('/kaggle/input/titanic/test.csv')\n",
    "test_data.head()"
   ]
  },
  {
   "cell_type": "code",
   "execution_count": 4,
   "id": "4425ef06",
   "metadata": {
    "execution": {
     "iopub.execute_input": "2022-09-17T01:43:48.244467Z",
     "iopub.status.busy": "2022-09-17T01:43:48.243407Z",
     "iopub.status.idle": "2022-09-17T01:43:48.272192Z",
     "shell.execute_reply": "2022-09-17T01:43:48.270667Z"
    },
    "papermill": {
     "duration": 0.050047,
     "end_time": "2022-09-17T01:43:48.274501",
     "exception": false,
     "start_time": "2022-09-17T01:43:48.224454",
     "status": "completed"
    },
    "tags": []
   },
   "outputs": [
    {
     "name": "stdout",
     "output_type": "stream",
     "text": [
      "<class 'pandas.core.frame.DataFrame'>\n",
      "RangeIndex: 891 entries, 0 to 890\n",
      "Data columns (total 12 columns):\n",
      " #   Column       Non-Null Count  Dtype  \n",
      "---  ------       --------------  -----  \n",
      " 0   PassengerId  891 non-null    int64  \n",
      " 1   Survived     891 non-null    int64  \n",
      " 2   Pclass       891 non-null    int64  \n",
      " 3   Name         891 non-null    object \n",
      " 4   Sex          891 non-null    object \n",
      " 5   Age          714 non-null    float64\n",
      " 6   SibSp        891 non-null    int64  \n",
      " 7   Parch        891 non-null    int64  \n",
      " 8   Ticket       891 non-null    object \n",
      " 9   Fare         891 non-null    float64\n",
      " 10  Cabin        204 non-null    object \n",
      " 11  Embarked     889 non-null    object \n",
      "dtypes: float64(2), int64(5), object(5)\n",
      "memory usage: 83.7+ KB\n"
     ]
    }
   ],
   "source": [
    "train_data.info()\n"
   ]
  },
  {
   "cell_type": "code",
   "execution_count": 5,
   "id": "9b1a462c",
   "metadata": {
    "execution": {
     "iopub.execute_input": "2022-09-17T01:43:48.314053Z",
     "iopub.status.busy": "2022-09-17T01:43:48.313281Z",
     "iopub.status.idle": "2022-09-17T01:43:48.348546Z",
     "shell.execute_reply": "2022-09-17T01:43:48.347228Z"
    },
    "papermill": {
     "duration": 0.057843,
     "end_time": "2022-09-17T01:43:48.351177",
     "exception": false,
     "start_time": "2022-09-17T01:43:48.293334",
     "status": "completed"
    },
    "tags": []
   },
   "outputs": [
    {
     "data": {
      "text/html": [
       "<div>\n",
       "<style scoped>\n",
       "    .dataframe tbody tr th:only-of-type {\n",
       "        vertical-align: middle;\n",
       "    }\n",
       "\n",
       "    .dataframe tbody tr th {\n",
       "        vertical-align: top;\n",
       "    }\n",
       "\n",
       "    .dataframe thead th {\n",
       "        text-align: right;\n",
       "    }\n",
       "</style>\n",
       "<table border=\"1\" class=\"dataframe\">\n",
       "  <thead>\n",
       "    <tr style=\"text-align: right;\">\n",
       "      <th></th>\n",
       "      <th>PassengerId</th>\n",
       "      <th>Survived</th>\n",
       "      <th>Pclass</th>\n",
       "      <th>Age</th>\n",
       "      <th>SibSp</th>\n",
       "      <th>Parch</th>\n",
       "      <th>Fare</th>\n",
       "    </tr>\n",
       "  </thead>\n",
       "  <tbody>\n",
       "    <tr>\n",
       "      <th>count</th>\n",
       "      <td>891.000000</td>\n",
       "      <td>891.000000</td>\n",
       "      <td>891.000000</td>\n",
       "      <td>714.000000</td>\n",
       "      <td>891.000000</td>\n",
       "      <td>891.000000</td>\n",
       "      <td>891.000000</td>\n",
       "    </tr>\n",
       "    <tr>\n",
       "      <th>mean</th>\n",
       "      <td>446.000000</td>\n",
       "      <td>0.383838</td>\n",
       "      <td>2.308642</td>\n",
       "      <td>29.699118</td>\n",
       "      <td>0.523008</td>\n",
       "      <td>0.381594</td>\n",
       "      <td>32.204208</td>\n",
       "    </tr>\n",
       "    <tr>\n",
       "      <th>std</th>\n",
       "      <td>257.353842</td>\n",
       "      <td>0.486592</td>\n",
       "      <td>0.836071</td>\n",
       "      <td>14.526497</td>\n",
       "      <td>1.102743</td>\n",
       "      <td>0.806057</td>\n",
       "      <td>49.693429</td>\n",
       "    </tr>\n",
       "    <tr>\n",
       "      <th>min</th>\n",
       "      <td>1.000000</td>\n",
       "      <td>0.000000</td>\n",
       "      <td>1.000000</td>\n",
       "      <td>0.420000</td>\n",
       "      <td>0.000000</td>\n",
       "      <td>0.000000</td>\n",
       "      <td>0.000000</td>\n",
       "    </tr>\n",
       "    <tr>\n",
       "      <th>25%</th>\n",
       "      <td>223.500000</td>\n",
       "      <td>0.000000</td>\n",
       "      <td>2.000000</td>\n",
       "      <td>20.125000</td>\n",
       "      <td>0.000000</td>\n",
       "      <td>0.000000</td>\n",
       "      <td>7.910400</td>\n",
       "    </tr>\n",
       "    <tr>\n",
       "      <th>50%</th>\n",
       "      <td>446.000000</td>\n",
       "      <td>0.000000</td>\n",
       "      <td>3.000000</td>\n",
       "      <td>28.000000</td>\n",
       "      <td>0.000000</td>\n",
       "      <td>0.000000</td>\n",
       "      <td>14.454200</td>\n",
       "    </tr>\n",
       "    <tr>\n",
       "      <th>75%</th>\n",
       "      <td>668.500000</td>\n",
       "      <td>1.000000</td>\n",
       "      <td>3.000000</td>\n",
       "      <td>38.000000</td>\n",
       "      <td>1.000000</td>\n",
       "      <td>0.000000</td>\n",
       "      <td>31.000000</td>\n",
       "    </tr>\n",
       "    <tr>\n",
       "      <th>max</th>\n",
       "      <td>891.000000</td>\n",
       "      <td>1.000000</td>\n",
       "      <td>3.000000</td>\n",
       "      <td>80.000000</td>\n",
       "      <td>8.000000</td>\n",
       "      <td>6.000000</td>\n",
       "      <td>512.329200</td>\n",
       "    </tr>\n",
       "  </tbody>\n",
       "</table>\n",
       "</div>"
      ],
      "text/plain": [
       "       PassengerId    Survived      Pclass         Age       SibSp  \\\n",
       "count   891.000000  891.000000  891.000000  714.000000  891.000000   \n",
       "mean    446.000000    0.383838    2.308642   29.699118    0.523008   \n",
       "std     257.353842    0.486592    0.836071   14.526497    1.102743   \n",
       "min       1.000000    0.000000    1.000000    0.420000    0.000000   \n",
       "25%     223.500000    0.000000    2.000000   20.125000    0.000000   \n",
       "50%     446.000000    0.000000    3.000000   28.000000    0.000000   \n",
       "75%     668.500000    1.000000    3.000000   38.000000    1.000000   \n",
       "max     891.000000    1.000000    3.000000   80.000000    8.000000   \n",
       "\n",
       "            Parch        Fare  \n",
       "count  891.000000  891.000000  \n",
       "mean     0.381594   32.204208  \n",
       "std      0.806057   49.693429  \n",
       "min      0.000000    0.000000  \n",
       "25%      0.000000    7.910400  \n",
       "50%      0.000000   14.454200  \n",
       "75%      0.000000   31.000000  \n",
       "max      6.000000  512.329200  "
      ]
     },
     "execution_count": 5,
     "metadata": {},
     "output_type": "execute_result"
    }
   ],
   "source": [
    "train_data.describe()"
   ]
  },
  {
   "cell_type": "code",
   "execution_count": 6,
   "id": "fa4bfd74",
   "metadata": {
    "execution": {
     "iopub.execute_input": "2022-09-17T01:43:48.388403Z",
     "iopub.status.busy": "2022-09-17T01:43:48.388004Z",
     "iopub.status.idle": "2022-09-17T01:43:48.401177Z",
     "shell.execute_reply": "2022-09-17T01:43:48.400196Z"
    },
    "papermill": {
     "duration": 0.034486,
     "end_time": "2022-09-17T01:43:48.403606",
     "exception": false,
     "start_time": "2022-09-17T01:43:48.369120",
     "status": "completed"
    },
    "tags": []
   },
   "outputs": [
    {
     "name": "stdout",
     "output_type": "stream",
     "text": [
      "<class 'pandas.core.frame.DataFrame'>\n",
      "RangeIndex: 418 entries, 0 to 417\n",
      "Data columns (total 11 columns):\n",
      " #   Column       Non-Null Count  Dtype  \n",
      "---  ------       --------------  -----  \n",
      " 0   PassengerId  418 non-null    int64  \n",
      " 1   Pclass       418 non-null    int64  \n",
      " 2   Name         418 non-null    object \n",
      " 3   Sex          418 non-null    object \n",
      " 4   Age          332 non-null    float64\n",
      " 5   SibSp        418 non-null    int64  \n",
      " 6   Parch        418 non-null    int64  \n",
      " 7   Ticket       418 non-null    object \n",
      " 8   Fare         417 non-null    float64\n",
      " 9   Cabin        91 non-null     object \n",
      " 10  Embarked     418 non-null    object \n",
      "dtypes: float64(2), int64(4), object(5)\n",
      "memory usage: 36.0+ KB\n"
     ]
    }
   ],
   "source": [
    "test_data.info()"
   ]
  },
  {
   "cell_type": "code",
   "execution_count": 7,
   "id": "4ba75484",
   "metadata": {
    "execution": {
     "iopub.execute_input": "2022-09-17T01:43:48.441114Z",
     "iopub.status.busy": "2022-09-17T01:43:48.440642Z",
     "iopub.status.idle": "2022-09-17T01:43:48.470884Z",
     "shell.execute_reply": "2022-09-17T01:43:48.469618Z"
    },
    "papermill": {
     "duration": 0.052095,
     "end_time": "2022-09-17T01:43:48.473543",
     "exception": false,
     "start_time": "2022-09-17T01:43:48.421448",
     "status": "completed"
    },
    "tags": []
   },
   "outputs": [
    {
     "data": {
      "text/html": [
       "<div>\n",
       "<style scoped>\n",
       "    .dataframe tbody tr th:only-of-type {\n",
       "        vertical-align: middle;\n",
       "    }\n",
       "\n",
       "    .dataframe tbody tr th {\n",
       "        vertical-align: top;\n",
       "    }\n",
       "\n",
       "    .dataframe thead th {\n",
       "        text-align: right;\n",
       "    }\n",
       "</style>\n",
       "<table border=\"1\" class=\"dataframe\">\n",
       "  <thead>\n",
       "    <tr style=\"text-align: right;\">\n",
       "      <th></th>\n",
       "      <th>PassengerId</th>\n",
       "      <th>Pclass</th>\n",
       "      <th>Age</th>\n",
       "      <th>SibSp</th>\n",
       "      <th>Parch</th>\n",
       "      <th>Fare</th>\n",
       "    </tr>\n",
       "  </thead>\n",
       "  <tbody>\n",
       "    <tr>\n",
       "      <th>count</th>\n",
       "      <td>418.000000</td>\n",
       "      <td>418.000000</td>\n",
       "      <td>332.000000</td>\n",
       "      <td>418.000000</td>\n",
       "      <td>418.000000</td>\n",
       "      <td>417.000000</td>\n",
       "    </tr>\n",
       "    <tr>\n",
       "      <th>mean</th>\n",
       "      <td>1100.500000</td>\n",
       "      <td>2.265550</td>\n",
       "      <td>30.272590</td>\n",
       "      <td>0.447368</td>\n",
       "      <td>0.392344</td>\n",
       "      <td>35.627188</td>\n",
       "    </tr>\n",
       "    <tr>\n",
       "      <th>std</th>\n",
       "      <td>120.810458</td>\n",
       "      <td>0.841838</td>\n",
       "      <td>14.181209</td>\n",
       "      <td>0.896760</td>\n",
       "      <td>0.981429</td>\n",
       "      <td>55.907576</td>\n",
       "    </tr>\n",
       "    <tr>\n",
       "      <th>min</th>\n",
       "      <td>892.000000</td>\n",
       "      <td>1.000000</td>\n",
       "      <td>0.170000</td>\n",
       "      <td>0.000000</td>\n",
       "      <td>0.000000</td>\n",
       "      <td>0.000000</td>\n",
       "    </tr>\n",
       "    <tr>\n",
       "      <th>25%</th>\n",
       "      <td>996.250000</td>\n",
       "      <td>1.000000</td>\n",
       "      <td>21.000000</td>\n",
       "      <td>0.000000</td>\n",
       "      <td>0.000000</td>\n",
       "      <td>7.895800</td>\n",
       "    </tr>\n",
       "    <tr>\n",
       "      <th>50%</th>\n",
       "      <td>1100.500000</td>\n",
       "      <td>3.000000</td>\n",
       "      <td>27.000000</td>\n",
       "      <td>0.000000</td>\n",
       "      <td>0.000000</td>\n",
       "      <td>14.454200</td>\n",
       "    </tr>\n",
       "    <tr>\n",
       "      <th>75%</th>\n",
       "      <td>1204.750000</td>\n",
       "      <td>3.000000</td>\n",
       "      <td>39.000000</td>\n",
       "      <td>1.000000</td>\n",
       "      <td>0.000000</td>\n",
       "      <td>31.500000</td>\n",
       "    </tr>\n",
       "    <tr>\n",
       "      <th>max</th>\n",
       "      <td>1309.000000</td>\n",
       "      <td>3.000000</td>\n",
       "      <td>76.000000</td>\n",
       "      <td>8.000000</td>\n",
       "      <td>9.000000</td>\n",
       "      <td>512.329200</td>\n",
       "    </tr>\n",
       "  </tbody>\n",
       "</table>\n",
       "</div>"
      ],
      "text/plain": [
       "       PassengerId      Pclass         Age       SibSp       Parch        Fare\n",
       "count   418.000000  418.000000  332.000000  418.000000  418.000000  417.000000\n",
       "mean   1100.500000    2.265550   30.272590    0.447368    0.392344   35.627188\n",
       "std     120.810458    0.841838   14.181209    0.896760    0.981429   55.907576\n",
       "min     892.000000    1.000000    0.170000    0.000000    0.000000    0.000000\n",
       "25%     996.250000    1.000000   21.000000    0.000000    0.000000    7.895800\n",
       "50%    1100.500000    3.000000   27.000000    0.000000    0.000000   14.454200\n",
       "75%    1204.750000    3.000000   39.000000    1.000000    0.000000   31.500000\n",
       "max    1309.000000    3.000000   76.000000    8.000000    9.000000  512.329200"
      ]
     },
     "execution_count": 7,
     "metadata": {},
     "output_type": "execute_result"
    }
   ],
   "source": [
    "test_data.describe()"
   ]
  },
  {
   "cell_type": "markdown",
   "id": "2eeaff31",
   "metadata": {
    "papermill": {
     "duration": 0.017785,
     "end_time": "2022-09-17T01:43:48.509495",
     "exception": false,
     "start_time": "2022-09-17T01:43:48.491710",
     "status": "completed"
    },
    "tags": []
   },
   "source": [
    "# EDA "
   ]
  },
  {
   "cell_type": "markdown",
   "id": "9d346e4a",
   "metadata": {
    "papermill": {
     "duration": 0.018419,
     "end_time": "2022-09-17T01:43:48.546954",
     "exception": false,
     "start_time": "2022-09-17T01:43:48.528535",
     "status": "completed"
    },
    "tags": []
   },
   "source": [
    "### looking for missing values"
   ]
  },
  {
   "cell_type": "code",
   "execution_count": 8,
   "id": "95af5733",
   "metadata": {
    "execution": {
     "iopub.execute_input": "2022-09-17T01:43:48.586158Z",
     "iopub.status.busy": "2022-09-17T01:43:48.585724Z",
     "iopub.status.idle": "2022-09-17T01:43:48.595300Z",
     "shell.execute_reply": "2022-09-17T01:43:48.594353Z"
    },
    "papermill": {
     "duration": 0.031864,
     "end_time": "2022-09-17T01:43:48.597316",
     "exception": false,
     "start_time": "2022-09-17T01:43:48.565452",
     "status": "completed"
    },
    "tags": []
   },
   "outputs": [
    {
     "data": {
      "text/plain": [
       "PassengerId      0\n",
       "Survived         0\n",
       "Pclass           0\n",
       "Name             0\n",
       "Sex              0\n",
       "Age            177\n",
       "SibSp            0\n",
       "Parch            0\n",
       "Ticket           0\n",
       "Fare             0\n",
       "Cabin          687\n",
       "Embarked         2\n",
       "dtype: int64"
      ]
     },
     "execution_count": 8,
     "metadata": {},
     "output_type": "execute_result"
    }
   ],
   "source": [
    "train_data.isnull().sum()"
   ]
  },
  {
   "cell_type": "code",
   "execution_count": 9,
   "id": "083ed8b9",
   "metadata": {
    "execution": {
     "iopub.execute_input": "2022-09-17T01:43:48.638505Z",
     "iopub.status.busy": "2022-09-17T01:43:48.637376Z",
     "iopub.status.idle": "2022-09-17T01:43:48.649666Z",
     "shell.execute_reply": "2022-09-17T01:43:48.648341Z"
    },
    "papermill": {
     "duration": 0.036305,
     "end_time": "2022-09-17T01:43:48.652125",
     "exception": false,
     "start_time": "2022-09-17T01:43:48.615820",
     "status": "completed"
    },
    "tags": []
   },
   "outputs": [
    {
     "data": {
      "text/plain": [
       "PassengerId      0\n",
       "Pclass           0\n",
       "Name             0\n",
       "Sex              0\n",
       "Age             86\n",
       "SibSp            0\n",
       "Parch            0\n",
       "Ticket           0\n",
       "Fare             1\n",
       "Cabin          327\n",
       "Embarked         0\n",
       "dtype: int64"
      ]
     },
     "execution_count": 9,
     "metadata": {},
     "output_type": "execute_result"
    }
   ],
   "source": [
    "test_data.isnull().sum()"
   ]
  },
  {
   "cell_type": "markdown",
   "id": "2b6c5e89",
   "metadata": {
    "papermill": {
     "duration": 0.022021,
     "end_time": "2022-09-17T01:43:48.694192",
     "exception": false,
     "start_time": "2022-09-17T01:43:48.672171",
     "status": "completed"
    },
    "tags": []
   },
   "source": [
    "#### Checking percentage of survivors"
   ]
  },
  {
   "cell_type": "code",
   "execution_count": 10,
   "id": "ec455453",
   "metadata": {
    "execution": {
     "iopub.execute_input": "2022-09-17T01:43:48.735350Z",
     "iopub.status.busy": "2022-09-17T01:43:48.734197Z",
     "iopub.status.idle": "2022-09-17T01:43:48.898384Z",
     "shell.execute_reply": "2022-09-17T01:43:48.897112Z"
    },
    "papermill": {
     "duration": 0.193154,
     "end_time": "2022-09-17T01:43:48.906671",
     "exception": false,
     "start_time": "2022-09-17T01:43:48.713517",
     "status": "completed"
    },
    "tags": []
   },
   "outputs": [
    {
     "data": {
      "text/plain": [
       "([<matplotlib.patches.Wedge at 0x7fad292c25d0>,\n",
       "  <matplotlib.patches.Wedge at 0x7fad292c2fd0>],\n",
       " [Text(-0.3925749350994583, 1.0275626113924428, 'Passed'),\n",
       "  Text(0.3925750313068116, -1.0275625746369201, 'Survived')],\n",
       " [Text(-0.21413178278152267, 0.5604886971231505, '62%'),\n",
       "  Text(0.21413183525826085, -0.5604886770746836, '38%')])"
      ]
     },
     "execution_count": 10,
     "metadata": {},
     "output_type": "execute_result"
    },
    {
     "data": {
      "image/png": "[encoded data removed]",
      "text/plain": [
       "<Figure size 720x432 with 1 Axes>"
      ]
     },
     "metadata": {},
     "output_type": "display_data"
    }
   ],
   "source": [
    "sv = train_data['Survived'].value_counts().to_frame()\n",
    "\n",
    "plt.figure(figsize = (10, 6))\n",
    "palette_color = sns.color_palette('bright')\n",
    "plt.pie(sv[\"Survived\"], labels=[\"Passed\", \"Survived\"], colors=palette_color, autopct='%.0f%%')"
   ]
  },
  {
   "cell_type": "markdown",
   "id": "96770476",
   "metadata": {
    "papermill": {
     "duration": 0.018832,
     "end_time": "2022-09-17T01:43:48.985840",
     "exception": false,
     "start_time": "2022-09-17T01:43:48.967008",
     "status": "completed"
    },
    "tags": []
   },
   "source": [
    "### Inspect features"
   ]
  },
  {
   "cell_type": "markdown",
   "id": "01602ad0",
   "metadata": {
    "papermill": {
     "duration": 0.022294,
     "end_time": "2022-09-17T01:43:49.026879",
     "exception": false,
     "start_time": "2022-09-17T01:43:49.004585",
     "status": "completed"
    },
    "tags": []
   },
   "source": [
    "#### Pclass\n",
    "\n",
    "Inspect the influence of Class on the probability of survival"
   ]
  },
  {
   "cell_type": "code",
   "execution_count": 11,
   "id": "17a99cf5",
   "metadata": {
    "execution": {
     "iopub.execute_input": "2022-09-17T01:43:49.070511Z",
     "iopub.status.busy": "2022-09-17T01:43:49.068905Z",
     "iopub.status.idle": "2022-09-17T01:43:49.078326Z",
     "shell.execute_reply": "2022-09-17T01:43:49.077364Z"
    },
    "papermill": {
     "duration": 0.033498,
     "end_time": "2022-09-17T01:43:49.080951",
     "exception": false,
     "start_time": "2022-09-17T01:43:49.047453",
     "status": "completed"
    },
    "tags": []
   },
   "outputs": [
    {
     "data": {
      "text/plain": [
       "3    491\n",
       "1    216\n",
       "2    184\n",
       "Name: Pclass, dtype: int64"
      ]
     },
     "execution_count": 11,
     "metadata": {},
     "output_type": "execute_result"
    }
   ],
   "source": [
    "train_data[\"Pclass\"].value_counts()"
   ]
  },
  {
   "cell_type": "code",
   "execution_count": 12,
   "id": "1c49479e",
   "metadata": {
    "execution": {
     "iopub.execute_input": "2022-09-17T01:43:49.127395Z",
     "iopub.status.busy": "2022-09-17T01:43:49.126434Z",
     "iopub.status.idle": "2022-09-17T01:43:49.137475Z",
     "shell.execute_reply": "2022-09-17T01:43:49.136156Z"
    },
    "papermill": {
     "duration": 0.034901,
     "end_time": "2022-09-17T01:43:49.139949",
     "exception": false,
     "start_time": "2022-09-17T01:43:49.105048",
     "status": "completed"
    },
    "tags": []
   },
   "outputs": [
    {
     "name": "stdout",
     "output_type": "stream",
     "text": [
      "percentage of survived people among 1st class passengers 62.96 %\n"
     ]
    }
   ],
   "source": [
    "survived_1st = len(train_data.loc[(train_data[\"Pclass\"] == 1) & (train_data[\"Survived\"] == 1)])\n",
    "all_1st = len(train_data[train_data[\"Pclass\"] == 1])\n",
    "survived_1st_rate = (survived_1st / all_1st) * 100\n",
    "print(f\"percentage of survived people among 1st class passengers {survived_1st_rate:0.2f} %\")"
   ]
  },
  {
   "cell_type": "code",
   "execution_count": 13,
   "id": "e3086b0e",
   "metadata": {
    "execution": {
     "iopub.execute_input": "2022-09-17T01:43:49.179629Z",
     "iopub.status.busy": "2022-09-17T01:43:49.179245Z",
     "iopub.status.idle": "2022-09-17T01:43:49.188878Z",
     "shell.execute_reply": "2022-09-17T01:43:49.187479Z"
    },
    "papermill": {
     "duration": 0.032426,
     "end_time": "2022-09-17T01:43:49.191348",
     "exception": false,
     "start_time": "2022-09-17T01:43:49.158922",
     "status": "completed"
    },
    "tags": []
   },
   "outputs": [
    {
     "name": "stdout",
     "output_type": "stream",
     "text": [
      "percentage of survived people among 2nd class passengers 47.28 %\n"
     ]
    }
   ],
   "source": [
    "survived_2nd = len(train_data.loc[(train_data[\"Pclass\"] == 2) & (train_data[\"Survived\"] == 1)])\n",
    "all_2nd = len(train_data[train_data[\"Pclass\"] == 2])\n",
    "survived_2nd_rate = (survived_2nd / all_2nd) * 100\n",
    "print(f\"percentage of survived people among 2nd class passengers {survived_2nd_rate:0.2f} %\")"
   ]
  },
  {
   "cell_type": "code",
   "execution_count": 14,
   "id": "890f4515",
   "metadata": {
    "execution": {
     "iopub.execute_input": "2022-09-17T01:43:49.232701Z",
     "iopub.status.busy": "2022-09-17T01:43:49.231417Z",
     "iopub.status.idle": "2022-09-17T01:43:49.242257Z",
     "shell.execute_reply": "2022-09-17T01:43:49.240913Z"
    },
    "papermill": {
     "duration": 0.034259,
     "end_time": "2022-09-17T01:43:49.244636",
     "exception": false,
     "start_time": "2022-09-17T01:43:49.210377",
     "status": "completed"
    },
    "tags": []
   },
   "outputs": [
    {
     "name": "stdout",
     "output_type": "stream",
     "text": [
      "percentage of survived people among 3rd class passengers 24.24 %\n"
     ]
    }
   ],
   "source": [
    "survived_3rd = len(train_data.loc[(train_data[\"Pclass\"] == 3) & (train_data[\"Survived\"] == 1)])\n",
    "all_3rd = len(train_data[train_data[\"Pclass\"] == 3])\n",
    "survived_3rd_rate = (survived_3rd / all_3rd) * 100\n",
    "print(f\"percentage of survived people among 3rd class passengers {survived_3rd_rate:0.2f} %\")"
   ]
  },
  {
   "cell_type": "code",
   "execution_count": 15,
   "id": "2874d047",
   "metadata": {
    "execution": {
     "iopub.execute_input": "2022-09-17T01:43:49.285110Z",
     "iopub.status.busy": "2022-09-17T01:43:49.284687Z",
     "iopub.status.idle": "2022-09-17T01:43:49.519249Z",
     "shell.execute_reply": "2022-09-17T01:43:49.518294Z"
    },
    "papermill": {
     "duration": 0.258398,
     "end_time": "2022-09-17T01:43:49.522126",
     "exception": false,
     "start_time": "2022-09-17T01:43:49.263728",
     "status": "completed"
    },
    "tags": []
   },
   "outputs": [
    {
     "data": {
      "text/plain": [
       "<AxesSubplot:xlabel='Pclass', ylabel='count'>"
      ]
     },
     "execution_count": 15,
     "metadata": {},
     "output_type": "execute_result"
    },
    {
     "data": {
      "image/png": "[encoded data removed]",
      "text/plain": [
       "<Figure size 720x432 with 1 Axes>"
      ]
     },
     "metadata": {
      "needs_background": "light"
     },
     "output_type": "display_data"
    }
   ],
   "source": [
    "plt.figure(figsize = (10, 6))\n",
    "sns.countplot(data = train_data, x = \"Pclass\", hue = \"Survived\")"
   ]
  },
  {
   "cell_type": "markdown",
   "id": "5708ef39",
   "metadata": {
    "papermill": {
     "duration": 0.019351,
     "end_time": "2022-09-17T01:43:49.564075",
     "exception": false,
     "start_time": "2022-09-17T01:43:49.544724",
     "status": "completed"
    },
    "tags": []
   },
   "source": [
    "#### Name\n",
    "\n",
    "We extract title from passengers names"
   ]
  },
  {
   "cell_type": "code",
   "execution_count": 16,
   "id": "19b815d1",
   "metadata": {
    "execution": {
     "iopub.execute_input": "2022-09-17T01:43:49.606278Z",
     "iopub.status.busy": "2022-09-17T01:43:49.605455Z",
     "iopub.status.idle": "2022-09-17T01:43:49.618428Z",
     "shell.execute_reply": "2022-09-17T01:43:49.617242Z"
    },
    "papermill": {
     "duration": 0.037349,
     "end_time": "2022-09-17T01:43:49.621348",
     "exception": false,
     "start_time": "2022-09-17T01:43:49.583999",
     "status": "completed"
    },
    "tags": []
   },
   "outputs": [],
   "source": [
    "train_data[\"Title\"] = train_data.Name.str.extract(\"([\\ba-zA-Z]+\\.)\", expand = False)\n",
    "test_data[\"Title\"] = test_data.Name.str.extract(\"([\\ba-zA-Z]+\\.)\", expand = False)"
   ]
  },
  {
   "cell_type": "code",
   "execution_count": 17,
   "id": "d2f61d27",
   "metadata": {
    "execution": {
     "iopub.execute_input": "2022-09-17T01:43:49.673795Z",
     "iopub.status.busy": "2022-09-17T01:43:49.672989Z",
     "iopub.status.idle": "2022-09-17T01:43:49.688439Z",
     "shell.execute_reply": "2022-09-17T01:43:49.683393Z"
    },
    "papermill": {
     "duration": 0.045224,
     "end_time": "2022-09-17T01:43:49.691909",
     "exception": false,
     "start_time": "2022-09-17T01:43:49.646685",
     "status": "completed"
    },
    "tags": []
   },
   "outputs": [
    {
     "data": {
      "text/plain": [
       "array(['Mr.', 'Mrs.', 'Miss.', 'Master.', 'Don.', 'Rev.', 'Dr.', 'Mme.',\n",
       "       'Ms.', 'Major.', 'Lady.', 'Sir.', 'Mlle.', 'Col.', 'Capt.',\n",
       "       'Countess.', 'Jonkheer.'], dtype=object)"
      ]
     },
     "execution_count": 17,
     "metadata": {},
     "output_type": "execute_result"
    }
   ],
   "source": [
    "train_data[\"Title\"].unique()"
   ]
  },
  {
   "cell_type": "code",
   "execution_count": 18,
   "id": "e6306fc1",
   "metadata": {
    "execution": {
     "iopub.execute_input": "2022-09-17T01:43:49.744988Z",
     "iopub.status.busy": "2022-09-17T01:43:49.744334Z",
     "iopub.status.idle": "2022-09-17T01:43:49.755461Z",
     "shell.execute_reply": "2022-09-17T01:43:49.754332Z"
    },
    "papermill": {
     "duration": 0.039227,
     "end_time": "2022-09-17T01:43:49.757700",
     "exception": false,
     "start_time": "2022-09-17T01:43:49.718473",
     "status": "completed"
    },
    "tags": []
   },
   "outputs": [
    {
     "data": {
      "text/html": [
       "<div>\n",
       "<style scoped>\n",
       "    .dataframe tbody tr th:only-of-type {\n",
       "        vertical-align: middle;\n",
       "    }\n",
       "\n",
       "    .dataframe tbody tr th {\n",
       "        vertical-align: top;\n",
       "    }\n",
       "\n",
       "    .dataframe thead th {\n",
       "        text-align: right;\n",
       "    }\n",
       "</style>\n",
       "<table border=\"1\" class=\"dataframe\">\n",
       "  <thead>\n",
       "    <tr style=\"text-align: right;\">\n",
       "      <th></th>\n",
       "      <th>Title</th>\n",
       "    </tr>\n",
       "  </thead>\n",
       "  <tbody>\n",
       "    <tr>\n",
       "      <th>Mr.</th>\n",
       "      <td>517</td>\n",
       "    </tr>\n",
       "    <tr>\n",
       "      <th>Miss.</th>\n",
       "      <td>182</td>\n",
       "    </tr>\n",
       "    <tr>\n",
       "      <th>Mrs.</th>\n",
       "      <td>125</td>\n",
       "    </tr>\n",
       "    <tr>\n",
       "      <th>Master.</th>\n",
       "      <td>40</td>\n",
       "    </tr>\n",
       "    <tr>\n",
       "      <th>Dr.</th>\n",
       "      <td>7</td>\n",
       "    </tr>\n",
       "    <tr>\n",
       "      <th>Rev.</th>\n",
       "      <td>6</td>\n",
       "    </tr>\n",
       "    <tr>\n",
       "      <th>Mlle.</th>\n",
       "      <td>2</td>\n",
       "    </tr>\n",
       "    <tr>\n",
       "      <th>Major.</th>\n",
       "      <td>2</td>\n",
       "    </tr>\n",
       "    <tr>\n",
       "      <th>Col.</th>\n",
       "      <td>2</td>\n",
       "    </tr>\n",
       "    <tr>\n",
       "      <th>Countess.</th>\n",
       "      <td>1</td>\n",
       "    </tr>\n",
       "    <tr>\n",
       "      <th>Capt.</th>\n",
       "      <td>1</td>\n",
       "    </tr>\n",
       "    <tr>\n",
       "      <th>Ms.</th>\n",
       "      <td>1</td>\n",
       "    </tr>\n",
       "    <tr>\n",
       "      <th>Sir.</th>\n",
       "      <td>1</td>\n",
       "    </tr>\n",
       "    <tr>\n",
       "      <th>Lady.</th>\n",
       "      <td>1</td>\n",
       "    </tr>\n",
       "    <tr>\n",
       "      <th>Mme.</th>\n",
       "      <td>1</td>\n",
       "    </tr>\n",
       "    <tr>\n",
       "      <th>Don.</th>\n",
       "      <td>1</td>\n",
       "    </tr>\n",
       "    <tr>\n",
       "      <th>Jonkheer.</th>\n",
       "      <td>1</td>\n",
       "    </tr>\n",
       "  </tbody>\n",
       "</table>\n",
       "</div>"
      ],
      "text/plain": [
       "           Title\n",
       "Mr.          517\n",
       "Miss.        182\n",
       "Mrs.         125\n",
       "Master.       40\n",
       "Dr.            7\n",
       "Rev.           6\n",
       "Mlle.          2\n",
       "Major.         2\n",
       "Col.           2\n",
       "Countess.      1\n",
       "Capt.          1\n",
       "Ms.            1\n",
       "Sir.           1\n",
       "Lady.          1\n",
       "Mme.           1\n",
       "Don.           1\n",
       "Jonkheer.      1"
      ]
     },
     "execution_count": 18,
     "metadata": {},
     "output_type": "execute_result"
    }
   ],
   "source": [
    "train_data[\"Title\"].value_counts().to_frame()"
   ]
  },
  {
   "cell_type": "code",
   "execution_count": 19,
   "id": "b313c900",
   "metadata": {
    "execution": {
     "iopub.execute_input": "2022-09-17T01:43:49.800368Z",
     "iopub.status.busy": "2022-09-17T01:43:49.799660Z",
     "iopub.status.idle": "2022-09-17T01:43:49.807347Z",
     "shell.execute_reply": "2022-09-17T01:43:49.806149Z"
    },
    "papermill": {
     "duration": 0.032082,
     "end_time": "2022-09-17T01:43:49.809614",
     "exception": false,
     "start_time": "2022-09-17T01:43:49.777532",
     "status": "completed"
    },
    "tags": []
   },
   "outputs": [
    {
     "data": {
      "text/plain": [
       "array(['Mr.', 'Mrs.', 'Miss.', 'Master.', 'Ms.', 'Col.', 'Rev.', 'Dr.',\n",
       "       'Dona.'], dtype=object)"
      ]
     },
     "execution_count": 19,
     "metadata": {},
     "output_type": "execute_result"
    }
   ],
   "source": [
    "test_data[\"Title\"].unique()"
   ]
  },
  {
   "cell_type": "code",
   "execution_count": 20,
   "id": "d7478d45",
   "metadata": {
    "execution": {
     "iopub.execute_input": "2022-09-17T01:43:49.853020Z",
     "iopub.status.busy": "2022-09-17T01:43:49.852295Z",
     "iopub.status.idle": "2022-09-17T01:43:49.861275Z",
     "shell.execute_reply": "2022-09-17T01:43:49.860192Z"
    },
    "papermill": {
     "duration": 0.033158,
     "end_time": "2022-09-17T01:43:49.863509",
     "exception": false,
     "start_time": "2022-09-17T01:43:49.830351",
     "status": "completed"
    },
    "tags": []
   },
   "outputs": [
    {
     "data": {
      "text/plain": [
       "Mr.        240\n",
       "Miss.       78\n",
       "Mrs.        72\n",
       "Master.     21\n",
       "Col.         2\n",
       "Rev.         2\n",
       "Ms.          1\n",
       "Dr.          1\n",
       "Dona.        1\n",
       "Name: Title, dtype: int64"
      ]
     },
     "execution_count": 20,
     "metadata": {},
     "output_type": "execute_result"
    }
   ],
   "source": [
    "test_data[\"Title\"].value_counts()"
   ]
  },
  {
   "cell_type": "markdown",
   "id": "a8db139a",
   "metadata": {
    "papermill": {
     "duration": 0.019993,
     "end_time": "2022-09-17T01:43:49.904022",
     "exception": false,
     "start_time": "2022-09-17T01:43:49.884029",
     "status": "completed"
    },
    "tags": []
   },
   "source": [
    "#### Sex\n",
    "\n",
    "We inspect the influence of this feature on survival"
   ]
  },
  {
   "cell_type": "code",
   "execution_count": 21,
   "id": "0ad64d87",
   "metadata": {
    "execution": {
     "iopub.execute_input": "2022-09-17T01:43:49.947566Z",
     "iopub.status.busy": "2022-09-17T01:43:49.946875Z",
     "iopub.status.idle": "2022-09-17T01:43:49.956001Z",
     "shell.execute_reply": "2022-09-17T01:43:49.954856Z"
    },
    "papermill": {
     "duration": 0.033565,
     "end_time": "2022-09-17T01:43:49.958227",
     "exception": false,
     "start_time": "2022-09-17T01:43:49.924662",
     "status": "completed"
    },
    "tags": []
   },
   "outputs": [
    {
     "data": {
      "text/plain": [
       "male      577\n",
       "female    314\n",
       "Name: Sex, dtype: int64"
      ]
     },
     "execution_count": 21,
     "metadata": {},
     "output_type": "execute_result"
    }
   ],
   "source": [
    "train_data['Sex'].value_counts()"
   ]
  },
  {
   "cell_type": "code",
   "execution_count": 22,
   "id": "b6c3014f",
   "metadata": {
    "execution": {
     "iopub.execute_input": "2022-09-17T01:43:50.001637Z",
     "iopub.status.busy": "2022-09-17T01:43:50.000918Z",
     "iopub.status.idle": "2022-09-17T01:43:50.011585Z",
     "shell.execute_reply": "2022-09-17T01:43:50.010237Z"
    },
    "papermill": {
     "duration": 0.035214,
     "end_time": "2022-09-17T01:43:50.013893",
     "exception": false,
     "start_time": "2022-09-17T01:43:49.978679",
     "status": "completed"
    },
    "tags": []
   },
   "outputs": [
    {
     "name": "stdout",
     "output_type": "stream",
     "text": [
      "percentage of men who survived 18.89 %\n"
     ]
    }
   ],
   "source": [
    "survived_men = sum(train_data.loc[train_data.Sex == 'male'][\"Survived\"])\n",
    "all_men = len(train_data.loc[train_data.Sex == 'male'][\"Survived\"])\n",
    "men_rate = survived_men / all_men\n",
    "print(f\"percentage of men who survived {(men_rate*100):0.2f} %\")"
   ]
  },
  {
   "cell_type": "code",
   "execution_count": 23,
   "id": "994a9c51",
   "metadata": {
    "execution": {
     "iopub.execute_input": "2022-09-17T01:43:50.057930Z",
     "iopub.status.busy": "2022-09-17T01:43:50.057184Z",
     "iopub.status.idle": "2022-09-17T01:43:50.066802Z",
     "shell.execute_reply": "2022-09-17T01:43:50.065510Z"
    },
    "papermill": {
     "duration": 0.033987,
     "end_time": "2022-09-17T01:43:50.069042",
     "exception": false,
     "start_time": "2022-09-17T01:43:50.035055",
     "status": "completed"
    },
    "tags": []
   },
   "outputs": [
    {
     "name": "stdout",
     "output_type": "stream",
     "text": [
      "percentage of women who survived 74.20 %\n"
     ]
    }
   ],
   "source": [
    "survived_women = sum(train_data.loc[train_data.Sex == 'female'][\"Survived\"])\n",
    "all_women = len(train_data.loc[train_data.Sex == 'female'][\"Survived\"])\n",
    "women_rate = survived_women / all_women\n",
    "print(f\"percentage of women who survived {(women_rate*100):0.2f} %\")"
   ]
  },
  {
   "cell_type": "code",
   "execution_count": 24,
   "id": "4d813be6",
   "metadata": {
    "execution": {
     "iopub.execute_input": "2022-09-17T01:43:50.112793Z",
     "iopub.status.busy": "2022-09-17T01:43:50.112077Z",
     "iopub.status.idle": "2022-09-17T01:43:50.296692Z",
     "shell.execute_reply": "2022-09-17T01:43:50.295829Z"
    },
    "papermill": {
     "duration": 0.209403,
     "end_time": "2022-09-17T01:43:50.299096",
     "exception": false,
     "start_time": "2022-09-17T01:43:50.089693",
     "status": "completed"
    },
    "tags": []
   },
   "outputs": [
    {
     "data": {
      "text/plain": [
       "Text(0.5, 1.0, \"Men's Survival Rate\")"
      ]
     },
     "execution_count": 24,
     "metadata": {},
     "output_type": "execute_result"
    },
    {
     "data": {
      "image/png": "[encoded data removed]",
      "text/plain": [
       "<Figure size 1080x432 with 2 Axes>"
      ]
     },
     "metadata": {},
     "output_type": "display_data"
    }
   ],
   "source": [
    "fig, (ax1, ax2) = plt.subplots(1,2, figsize=(15,6))\n",
    "palette_color = sns.color_palette('pastel')\n",
    "ax1.pie(x = [survived_women, (all_women - survived_women)], labels = [\"survived\", \"passed\"], colors = palette_color, autopct='%.0f%%')\n",
    "ax2.pie(x = [survived_men, (all_men - survived_men)], labels = [\"survived\", \"passed\"], colors = palette_color, autopct='%.0f%%')\n",
    "ax1.set_title(\"Women's Survival Rate\")\n",
    "ax2.set_title(\"Men's Survival Rate\")"
   ]
  },
  {
   "cell_type": "markdown",
   "id": "55f8ec58",
   "metadata": {
    "papermill": {
     "duration": 0.021791,
     "end_time": "2022-09-17T01:43:50.341848",
     "exception": false,
     "start_time": "2022-09-17T01:43:50.320057",
     "status": "completed"
    },
    "tags": []
   },
   "source": [
    "#### Age\n",
    "\n",
    "We have lot of missing age values, we can try to fill this by getting approximations based on the titles extracted from names"
   ]
  },
  {
   "cell_type": "code",
   "execution_count": 25,
   "id": "af2d138a",
   "metadata": {
    "execution": {
     "iopub.execute_input": "2022-09-17T01:43:50.386825Z",
     "iopub.status.busy": "2022-09-17T01:43:50.385956Z",
     "iopub.status.idle": "2022-09-17T01:43:50.400064Z",
     "shell.execute_reply": "2022-09-17T01:43:50.398825Z"
    },
    "papermill": {
     "duration": 0.039601,
     "end_time": "2022-09-17T01:43:50.402486",
     "exception": false,
     "start_time": "2022-09-17T01:43:50.362885",
     "status": "completed"
    },
    "tags": []
   },
   "outputs": [
    {
     "data": {
      "text/html": [
       "<div>\n",
       "<style scoped>\n",
       "    .dataframe tbody tr th:only-of-type {\n",
       "        vertical-align: middle;\n",
       "    }\n",
       "\n",
       "    .dataframe tbody tr th {\n",
       "        vertical-align: top;\n",
       "    }\n",
       "\n",
       "    .dataframe thead th {\n",
       "        text-align: right;\n",
       "    }\n",
       "</style>\n",
       "<table border=\"1\" class=\"dataframe\">\n",
       "  <thead>\n",
       "    <tr style=\"text-align: right;\">\n",
       "      <th></th>\n",
       "      <th>Age</th>\n",
       "    </tr>\n",
       "    <tr>\n",
       "      <th>Title</th>\n",
       "      <th></th>\n",
       "    </tr>\n",
       "  </thead>\n",
       "  <tbody>\n",
       "    <tr>\n",
       "      <th>Capt.</th>\n",
       "      <td>70.0</td>\n",
       "    </tr>\n",
       "    <tr>\n",
       "      <th>Col.</th>\n",
       "      <td>58.0</td>\n",
       "    </tr>\n",
       "    <tr>\n",
       "      <th>Countess.</th>\n",
       "      <td>33.0</td>\n",
       "    </tr>\n",
       "    <tr>\n",
       "      <th>Don.</th>\n",
       "      <td>40.0</td>\n",
       "    </tr>\n",
       "    <tr>\n",
       "      <th>Dr.</th>\n",
       "      <td>46.5</td>\n",
       "    </tr>\n",
       "    <tr>\n",
       "      <th>Jonkheer.</th>\n",
       "      <td>38.0</td>\n",
       "    </tr>\n",
       "    <tr>\n",
       "      <th>Lady.</th>\n",
       "      <td>48.0</td>\n",
       "    </tr>\n",
       "    <tr>\n",
       "      <th>Major.</th>\n",
       "      <td>48.5</td>\n",
       "    </tr>\n",
       "    <tr>\n",
       "      <th>Master.</th>\n",
       "      <td>3.5</td>\n",
       "    </tr>\n",
       "    <tr>\n",
       "      <th>Miss.</th>\n",
       "      <td>21.0</td>\n",
       "    </tr>\n",
       "    <tr>\n",
       "      <th>Mlle.</th>\n",
       "      <td>24.0</td>\n",
       "    </tr>\n",
       "    <tr>\n",
       "      <th>Mme.</th>\n",
       "      <td>24.0</td>\n",
       "    </tr>\n",
       "    <tr>\n",
       "      <th>Mr.</th>\n",
       "      <td>30.0</td>\n",
       "    </tr>\n",
       "    <tr>\n",
       "      <th>Mrs.</th>\n",
       "      <td>35.0</td>\n",
       "    </tr>\n",
       "    <tr>\n",
       "      <th>Ms.</th>\n",
       "      <td>28.0</td>\n",
       "    </tr>\n",
       "    <tr>\n",
       "      <th>Rev.</th>\n",
       "      <td>46.5</td>\n",
       "    </tr>\n",
       "    <tr>\n",
       "      <th>Sir.</th>\n",
       "      <td>49.0</td>\n",
       "    </tr>\n",
       "  </tbody>\n",
       "</table>\n",
       "</div>"
      ],
      "text/plain": [
       "            Age\n",
       "Title          \n",
       "Capt.      70.0\n",
       "Col.       58.0\n",
       "Countess.  33.0\n",
       "Don.       40.0\n",
       "Dr.        46.5\n",
       "Jonkheer.  38.0\n",
       "Lady.      48.0\n",
       "Major.     48.5\n",
       "Master.     3.5\n",
       "Miss.      21.0\n",
       "Mlle.      24.0\n",
       "Mme.       24.0\n",
       "Mr.        30.0\n",
       "Mrs.       35.0\n",
       "Ms.        28.0\n",
       "Rev.       46.5\n",
       "Sir.       49.0"
      ]
     },
     "execution_count": 25,
     "metadata": {},
     "output_type": "execute_result"
    }
   ],
   "source": [
    "train_data.groupby(\"Title\")[\"Age\"].median().to_frame()"
   ]
  },
  {
   "cell_type": "code",
   "execution_count": 26,
   "id": "33ca3701",
   "metadata": {
    "execution": {
     "iopub.execute_input": "2022-09-17T01:43:50.448992Z",
     "iopub.status.busy": "2022-09-17T01:43:50.448146Z",
     "iopub.status.idle": "2022-09-17T01:43:50.461191Z",
     "shell.execute_reply": "2022-09-17T01:43:50.460099Z"
    },
    "papermill": {
     "duration": 0.039306,
     "end_time": "2022-09-17T01:43:50.463510",
     "exception": false,
     "start_time": "2022-09-17T01:43:50.424204",
     "status": "completed"
    },
    "tags": []
   },
   "outputs": [
    {
     "data": {
      "text/html": [
       "<div>\n",
       "<style scoped>\n",
       "    .dataframe tbody tr th:only-of-type {\n",
       "        vertical-align: middle;\n",
       "    }\n",
       "\n",
       "    .dataframe tbody tr th {\n",
       "        vertical-align: top;\n",
       "    }\n",
       "\n",
       "    .dataframe thead th {\n",
       "        text-align: right;\n",
       "    }\n",
       "</style>\n",
       "<table border=\"1\" class=\"dataframe\">\n",
       "  <thead>\n",
       "    <tr style=\"text-align: right;\">\n",
       "      <th></th>\n",
       "      <th>Age</th>\n",
       "    </tr>\n",
       "    <tr>\n",
       "      <th>Title</th>\n",
       "      <th></th>\n",
       "    </tr>\n",
       "  </thead>\n",
       "  <tbody>\n",
       "    <tr>\n",
       "      <th>Col.</th>\n",
       "      <td>50.0</td>\n",
       "    </tr>\n",
       "    <tr>\n",
       "      <th>Dona.</th>\n",
       "      <td>39.0</td>\n",
       "    </tr>\n",
       "    <tr>\n",
       "      <th>Dr.</th>\n",
       "      <td>53.0</td>\n",
       "    </tr>\n",
       "    <tr>\n",
       "      <th>Master.</th>\n",
       "      <td>7.0</td>\n",
       "    </tr>\n",
       "    <tr>\n",
       "      <th>Miss.</th>\n",
       "      <td>22.0</td>\n",
       "    </tr>\n",
       "    <tr>\n",
       "      <th>Mr.</th>\n",
       "      <td>28.5</td>\n",
       "    </tr>\n",
       "    <tr>\n",
       "      <th>Mrs.</th>\n",
       "      <td>36.5</td>\n",
       "    </tr>\n",
       "    <tr>\n",
       "      <th>Ms.</th>\n",
       "      <td>NaN</td>\n",
       "    </tr>\n",
       "    <tr>\n",
       "      <th>Rev.</th>\n",
       "      <td>35.5</td>\n",
       "    </tr>\n",
       "  </tbody>\n",
       "</table>\n",
       "</div>"
      ],
      "text/plain": [
       "          Age\n",
       "Title        \n",
       "Col.     50.0\n",
       "Dona.    39.0\n",
       "Dr.      53.0\n",
       "Master.   7.0\n",
       "Miss.    22.0\n",
       "Mr.      28.5\n",
       "Mrs.     36.5\n",
       "Ms.       NaN\n",
       "Rev.     35.5"
      ]
     },
     "execution_count": 26,
     "metadata": {},
     "output_type": "execute_result"
    }
   ],
   "source": [
    "test_data.groupby(\"Title\")[\"Age\"].median().to_frame()"
   ]
  },
  {
   "cell_type": "code",
   "execution_count": 27,
   "id": "efc25b77",
   "metadata": {
    "execution": {
     "iopub.execute_input": "2022-09-17T01:43:50.509071Z",
     "iopub.status.busy": "2022-09-17T01:43:50.508636Z",
     "iopub.status.idle": "2022-09-17T01:43:50.514725Z",
     "shell.execute_reply": "2022-09-17T01:43:50.513524Z"
    },
    "papermill": {
     "duration": 0.031493,
     "end_time": "2022-09-17T01:43:50.516850",
     "exception": false,
     "start_time": "2022-09-17T01:43:50.485357",
     "status": "completed"
    },
    "tags": []
   },
   "outputs": [],
   "source": [
    "age_dictionary = {\n",
    "    'Mr.' : 30,\n",
    "    'Mrs.' : 35,\n",
    "    'Miss.' : 21,\n",
    "    'Master.' : 3.5,\n",
    "    'Don.' : 40,\n",
    "    'Rev.' : 46.5,\n",
    "    'Dr.' : 46.5,\n",
    "    'Mme.' : 24,\n",
    "    'Ms.' : 28,\n",
    "    'Major.' : 48.5,\n",
    "    'Lady.' : 48,\n",
    "    'Sir.' : 49,\n",
    "    'Mlle.' : 24,\n",
    "    'Col.': 58,\n",
    "    'Capt.' : 70,\n",
    "    'Countess.' : 33,\n",
    "    'Jonkheer.' : 38,\n",
    "    'Dona.' :  39\n",
    "}"
   ]
  },
  {
   "cell_type": "code",
   "execution_count": 28,
   "id": "36ff3e09",
   "metadata": {
    "execution": {
     "iopub.execute_input": "2022-09-17T01:43:50.561299Z",
     "iopub.status.busy": "2022-09-17T01:43:50.560627Z",
     "iopub.status.idle": "2022-09-17T01:43:50.580904Z",
     "shell.execute_reply": "2022-09-17T01:43:50.579970Z"
    },
    "papermill": {
     "duration": 0.045373,
     "end_time": "2022-09-17T01:43:50.583408",
     "exception": false,
     "start_time": "2022-09-17T01:43:50.538035",
     "status": "completed"
    },
    "tags": []
   },
   "outputs": [],
   "source": [
    "for title in train_data[\"Title\"].unique():\n",
    "    \n",
    "    train_data.loc[(train_data[\"Age\"].isnull()) & (train_data[\"Title\"] == title), \"Age\"] = age_dictionary[title]"
   ]
  },
  {
   "cell_type": "code",
   "execution_count": 29,
   "id": "d0cce571",
   "metadata": {
    "execution": {
     "iopub.execute_input": "2022-09-17T01:43:50.627953Z",
     "iopub.status.busy": "2022-09-17T01:43:50.627268Z",
     "iopub.status.idle": "2022-09-17T01:43:50.635453Z",
     "shell.execute_reply": "2022-09-17T01:43:50.634502Z"
    },
    "papermill": {
     "duration": 0.033128,
     "end_time": "2022-09-17T01:43:50.637581",
     "exception": false,
     "start_time": "2022-09-17T01:43:50.604453",
     "status": "completed"
    },
    "tags": []
   },
   "outputs": [
    {
     "data": {
      "text/plain": [
       "0"
      ]
     },
     "execution_count": 29,
     "metadata": {},
     "output_type": "execute_result"
    }
   ],
   "source": [
    "len(train_data[train_data[\"Age\"].isnull()])"
   ]
  },
  {
   "cell_type": "code",
   "execution_count": 30,
   "id": "b5ad7aa3",
   "metadata": {
    "execution": {
     "iopub.execute_input": "2022-09-17T01:43:50.681885Z",
     "iopub.status.busy": "2022-09-17T01:43:50.681204Z",
     "iopub.status.idle": "2022-09-17T01:43:50.694603Z",
     "shell.execute_reply": "2022-09-17T01:43:50.693717Z"
    },
    "papermill": {
     "duration": 0.038439,
     "end_time": "2022-09-17T01:43:50.697114",
     "exception": false,
     "start_time": "2022-09-17T01:43:50.658675",
     "status": "completed"
    },
    "tags": []
   },
   "outputs": [],
   "source": [
    "for title in test_data[\"Title\"].unique():\n",
    "    \n",
    "    test_data.loc[(test_data[\"Age\"].isnull()) & (test_data[\"Title\"] == title), \"Age\"] = age_dictionary[title]"
   ]
  },
  {
   "cell_type": "code",
   "execution_count": 31,
   "id": "e163da7d",
   "metadata": {
    "execution": {
     "iopub.execute_input": "2022-09-17T01:43:50.741585Z",
     "iopub.status.busy": "2022-09-17T01:43:50.740929Z",
     "iopub.status.idle": "2022-09-17T01:43:50.749082Z",
     "shell.execute_reply": "2022-09-17T01:43:50.748068Z"
    },
    "papermill": {
     "duration": 0.033094,
     "end_time": "2022-09-17T01:43:50.751292",
     "exception": false,
     "start_time": "2022-09-17T01:43:50.718198",
     "status": "completed"
    },
    "tags": []
   },
   "outputs": [
    {
     "data": {
      "text/plain": [
       "0"
      ]
     },
     "execution_count": 31,
     "metadata": {},
     "output_type": "execute_result"
    }
   ],
   "source": [
    "len(test_data[test_data[\"Age\"].isnull()])"
   ]
  },
  {
   "cell_type": "code",
   "execution_count": 32,
   "id": "98015b3c",
   "metadata": {
    "execution": {
     "iopub.execute_input": "2022-09-17T01:43:50.795475Z",
     "iopub.status.busy": "2022-09-17T01:43:50.794822Z",
     "iopub.status.idle": "2022-09-17T01:43:51.017113Z",
     "shell.execute_reply": "2022-09-17T01:43:51.015854Z"
    },
    "papermill": {
     "duration": 0.247416,
     "end_time": "2022-09-17T01:43:51.019721",
     "exception": false,
     "start_time": "2022-09-17T01:43:50.772305",
     "status": "completed"
    },
    "tags": []
   },
   "outputs": [
    {
     "data": {
      "text/plain": [
       "<AxesSubplot:xlabel='Age', ylabel='Density'>"
      ]
     },
     "execution_count": 32,
     "metadata": {},
     "output_type": "execute_result"
    },
    {
     "data": {
      "image/png": "[encoded data removed]",
      "text/plain": [
       "<Figure size 720x432 with 1 Axes>"
      ]
     },
     "metadata": {
      "needs_background": "light"
     },
     "output_type": "display_data"
    }
   ],
   "source": [
    "plt.figure(figsize = (10, 6))\n",
    "sns.kdeplot(data=train_data, x=\"Age\", hue=\"Survived\")"
   ]
  },
  {
   "cell_type": "markdown",
   "id": "63a08ce0",
   "metadata": {
    "papermill": {
     "duration": 0.021377,
     "end_time": "2022-09-17T01:43:51.063441",
     "exception": false,
     "start_time": "2022-09-17T01:43:51.042064",
     "status": "completed"
    },
    "tags": []
   },
   "source": [
    "#### SibSp and Parch\n",
    "\n",
    "Siblings, Spouses, Parents and Children"
   ]
  },
  {
   "cell_type": "code",
   "execution_count": 33,
   "id": "d9822e49",
   "metadata": {
    "execution": {
     "iopub.execute_input": "2022-09-17T01:43:51.108931Z",
     "iopub.status.busy": "2022-09-17T01:43:51.108511Z",
     "iopub.status.idle": "2022-09-17T01:43:51.119205Z",
     "shell.execute_reply": "2022-09-17T01:43:51.118071Z"
    },
    "papermill": {
     "duration": 0.036316,
     "end_time": "2022-09-17T01:43:51.121516",
     "exception": false,
     "start_time": "2022-09-17T01:43:51.085200",
     "status": "completed"
    },
    "tags": []
   },
   "outputs": [
    {
     "data": {
      "text/html": [
       "<div>\n",
       "<style scoped>\n",
       "    .dataframe tbody tr th:only-of-type {\n",
       "        vertical-align: middle;\n",
       "    }\n",
       "\n",
       "    .dataframe tbody tr th {\n",
       "        vertical-align: top;\n",
       "    }\n",
       "\n",
       "    .dataframe thead th {\n",
       "        text-align: right;\n",
       "    }\n",
       "</style>\n",
       "<table border=\"1\" class=\"dataframe\">\n",
       "  <thead>\n",
       "    <tr style=\"text-align: right;\">\n",
       "      <th></th>\n",
       "      <th>SibSp</th>\n",
       "    </tr>\n",
       "  </thead>\n",
       "  <tbody>\n",
       "    <tr>\n",
       "      <th>0</th>\n",
       "      <td>608</td>\n",
       "    </tr>\n",
       "    <tr>\n",
       "      <th>1</th>\n",
       "      <td>209</td>\n",
       "    </tr>\n",
       "    <tr>\n",
       "      <th>2</th>\n",
       "      <td>28</td>\n",
       "    </tr>\n",
       "    <tr>\n",
       "      <th>4</th>\n",
       "      <td>18</td>\n",
       "    </tr>\n",
       "    <tr>\n",
       "      <th>3</th>\n",
       "      <td>16</td>\n",
       "    </tr>\n",
       "    <tr>\n",
       "      <th>8</th>\n",
       "      <td>7</td>\n",
       "    </tr>\n",
       "    <tr>\n",
       "      <th>5</th>\n",
       "      <td>5</td>\n",
       "    </tr>\n",
       "  </tbody>\n",
       "</table>\n",
       "</div>"
      ],
      "text/plain": [
       "   SibSp\n",
       "0    608\n",
       "1    209\n",
       "2     28\n",
       "4     18\n",
       "3     16\n",
       "8      7\n",
       "5      5"
      ]
     },
     "execution_count": 33,
     "metadata": {},
     "output_type": "execute_result"
    }
   ],
   "source": [
    "train_data[\"SibSp\"].value_counts().to_frame()"
   ]
  },
  {
   "cell_type": "code",
   "execution_count": 34,
   "id": "1caded63",
   "metadata": {
    "execution": {
     "iopub.execute_input": "2022-09-17T01:43:51.168092Z",
     "iopub.status.busy": "2022-09-17T01:43:51.167398Z",
     "iopub.status.idle": "2022-09-17T01:43:51.179082Z",
     "shell.execute_reply": "2022-09-17T01:43:51.177696Z"
    },
    "papermill": {
     "duration": 0.038287,
     "end_time": "2022-09-17T01:43:51.181933",
     "exception": false,
     "start_time": "2022-09-17T01:43:51.143646",
     "status": "completed"
    },
    "tags": []
   },
   "outputs": [
    {
     "data": {
      "text/html": [
       "<div>\n",
       "<style scoped>\n",
       "    .dataframe tbody tr th:only-of-type {\n",
       "        vertical-align: middle;\n",
       "    }\n",
       "\n",
       "    .dataframe tbody tr th {\n",
       "        vertical-align: top;\n",
       "    }\n",
       "\n",
       "    .dataframe thead th {\n",
       "        text-align: right;\n",
       "    }\n",
       "</style>\n",
       "<table border=\"1\" class=\"dataframe\">\n",
       "  <thead>\n",
       "    <tr style=\"text-align: right;\">\n",
       "      <th></th>\n",
       "      <th>Parch</th>\n",
       "    </tr>\n",
       "  </thead>\n",
       "  <tbody>\n",
       "    <tr>\n",
       "      <th>0</th>\n",
       "      <td>678</td>\n",
       "    </tr>\n",
       "    <tr>\n",
       "      <th>1</th>\n",
       "      <td>118</td>\n",
       "    </tr>\n",
       "    <tr>\n",
       "      <th>2</th>\n",
       "      <td>80</td>\n",
       "    </tr>\n",
       "    <tr>\n",
       "      <th>5</th>\n",
       "      <td>5</td>\n",
       "    </tr>\n",
       "    <tr>\n",
       "      <th>3</th>\n",
       "      <td>5</td>\n",
       "    </tr>\n",
       "    <tr>\n",
       "      <th>4</th>\n",
       "      <td>4</td>\n",
       "    </tr>\n",
       "    <tr>\n",
       "      <th>6</th>\n",
       "      <td>1</td>\n",
       "    </tr>\n",
       "  </tbody>\n",
       "</table>\n",
       "</div>"
      ],
      "text/plain": [
       "   Parch\n",
       "0    678\n",
       "1    118\n",
       "2     80\n",
       "5      5\n",
       "3      5\n",
       "4      4\n",
       "6      1"
      ]
     },
     "execution_count": 34,
     "metadata": {},
     "output_type": "execute_result"
    }
   ],
   "source": [
    "train_data[\"Parch\"].value_counts().to_frame()"
   ]
  },
  {
   "cell_type": "code",
   "execution_count": 35,
   "id": "27d08700",
   "metadata": {
    "execution": {
     "iopub.execute_input": "2022-09-17T01:43:51.228494Z",
     "iopub.status.busy": "2022-09-17T01:43:51.228105Z",
     "iopub.status.idle": "2022-09-17T01:43:51.728067Z",
     "shell.execute_reply": "2022-09-17T01:43:51.727067Z"
    },
    "papermill": {
     "duration": 0.526203,
     "end_time": "2022-09-17T01:43:51.730442",
     "exception": false,
     "start_time": "2022-09-17T01:43:51.204239",
     "status": "completed"
    },
    "tags": []
   },
   "outputs": [
    {
     "data": {
      "text/plain": [
       "Text(0.5, 1.0, 'Survival according to number of Parents/Children')"
      ]
     },
     "execution_count": 35,
     "metadata": {},
     "output_type": "execute_result"
    },
    {
     "data": {
      "image/png": "[encoded data removed]",
      "text/plain": [
       "<Figure size 1080x432 with 2 Axes>"
      ]
     },
     "metadata": {
      "needs_background": "light"
     },
     "output_type": "display_data"
    }
   ],
   "source": [
    "fig, (ax1, ax2) = plt.subplots(1, 2, figsize = (15, 6))\n",
    "sns.countplot(data = train_data, x = \"SibSp\", hue = \"Survived\", ax=ax1)\n",
    "ax1.set_title(\"Survival according to number of Siblings/Spouses\")\n",
    "sns.countplot(data = train_data, x = \"Parch\", hue = \"Survived\", ax=ax2)\n",
    "ax2.set_title(\"Survival according to number of Parents/Children\")"
   ]
  },
  {
   "cell_type": "markdown",
   "id": "b50a8740",
   "metadata": {
    "papermill": {
     "duration": 0.0224,
     "end_time": "2022-09-17T01:43:51.776039",
     "exception": false,
     "start_time": "2022-09-17T01:43:51.753639",
     "status": "completed"
    },
    "tags": []
   },
   "source": [
    "#### Embarked\n",
    "\n",
    "Passengers embarked from Southampton, Cherbourg or Queenstown "
   ]
  },
  {
   "cell_type": "code",
   "execution_count": 36,
   "id": "d218669b",
   "metadata": {
    "execution": {
     "iopub.execute_input": "2022-09-17T01:43:51.823943Z",
     "iopub.status.busy": "2022-09-17T01:43:51.822677Z",
     "iopub.status.idle": "2022-09-17T01:43:51.829971Z",
     "shell.execute_reply": "2022-09-17T01:43:51.828874Z"
    },
    "papermill": {
     "duration": 0.033712,
     "end_time": "2022-09-17T01:43:51.832380",
     "exception": false,
     "start_time": "2022-09-17T01:43:51.798668",
     "status": "completed"
    },
    "tags": []
   },
   "outputs": [
    {
     "data": {
      "text/plain": [
       "array(['S', 'C', 'Q', nan], dtype=object)"
      ]
     },
     "execution_count": 36,
     "metadata": {},
     "output_type": "execute_result"
    }
   ],
   "source": [
    "train_data[\"Embarked\"].unique()"
   ]
  },
  {
   "cell_type": "code",
   "execution_count": 37,
   "id": "c1066eba",
   "metadata": {
    "execution": {
     "iopub.execute_input": "2022-09-17T01:43:51.888750Z",
     "iopub.status.busy": "2022-09-17T01:43:51.887570Z",
     "iopub.status.idle": "2022-09-17T01:43:51.895628Z",
     "shell.execute_reply": "2022-09-17T01:43:51.894864Z"
    },
    "papermill": {
     "duration": 0.034577,
     "end_time": "2022-09-17T01:43:51.897566",
     "exception": false,
     "start_time": "2022-09-17T01:43:51.862989",
     "status": "completed"
    },
    "tags": []
   },
   "outputs": [
    {
     "data": {
      "text/plain": [
       "S    644\n",
       "C    168\n",
       "Q     77\n",
       "Name: Embarked, dtype: int64"
      ]
     },
     "execution_count": 37,
     "metadata": {},
     "output_type": "execute_result"
    }
   ],
   "source": [
    "train_data[\"Embarked\"].value_counts()"
   ]
  },
  {
   "cell_type": "code",
   "execution_count": 38,
   "id": "a4d11ec1",
   "metadata": {
    "execution": {
     "iopub.execute_input": "2022-09-17T01:43:51.947272Z",
     "iopub.status.busy": "2022-09-17T01:43:51.946486Z",
     "iopub.status.idle": "2022-09-17T01:43:51.954895Z",
     "shell.execute_reply": "2022-09-17T01:43:51.953823Z"
    },
    "papermill": {
     "duration": 0.035252,
     "end_time": "2022-09-17T01:43:51.957054",
     "exception": false,
     "start_time": "2022-09-17T01:43:51.921802",
     "status": "completed"
    },
    "tags": []
   },
   "outputs": [
    {
     "data": {
      "text/plain": [
       "Embarked\n",
       "C     93\n",
       "Q     30\n",
       "S    217\n",
       "Name: Survived, dtype: int64"
      ]
     },
     "execution_count": 38,
     "metadata": {},
     "output_type": "execute_result"
    }
   ],
   "source": [
    "train_data.groupby(\"Embarked\")[\"Survived\"].sum()"
   ]
  },
  {
   "cell_type": "code",
   "execution_count": 39,
   "id": "0564060d",
   "metadata": {
    "execution": {
     "iopub.execute_input": "2022-09-17T01:43:52.005568Z",
     "iopub.status.busy": "2022-09-17T01:43:52.004832Z",
     "iopub.status.idle": "2022-09-17T01:43:52.285646Z",
     "shell.execute_reply": "2022-09-17T01:43:52.284267Z"
    },
    "papermill": {
     "duration": 0.310487,
     "end_time": "2022-09-17T01:43:52.290723",
     "exception": false,
     "start_time": "2022-09-17T01:43:51.980236",
     "status": "completed"
    },
    "tags": []
   },
   "outputs": [
    {
     "data": {
      "text/plain": [
       "Text(0.5, 1.0, 'Embarked from Southampton')"
      ]
     },
     "execution_count": 39,
     "metadata": {},
     "output_type": "execute_result"
    },
    {
     "data": {
      "image/png": "[encoded data removed]",
      "text/plain": [
       "<Figure size 1080x432 with 3 Axes>"
      ]
     },
     "metadata": {},
     "output_type": "display_data"
    }
   ],
   "source": [
    "fig, (ax1, ax2, ax3) = plt.subplots(1,3, figsize=(15,6))\n",
    "palette_color = sns.color_palette('pastel')\n",
    "ax1.pie(x = [93, 75], labels = [\"survived\", \"passed\"], colors = palette_color, autopct='%.0f%%')\n",
    "ax2.pie(x = [30, 47], labels = [\"survived\", \"passed\"], colors = palette_color, autopct='%.0f%%')\n",
    "ax3.pie(x = [217, 427], labels = [\"survived\", \"passed\"], colors = palette_color, autopct='%.0f%%')\n",
    "ax1.set_title(\"Embarked from Cherbourg\")\n",
    "ax2.set_title(\"Embarked from Queensland\")\n",
    "ax3.set_title(\"Embarked from Southampton\")"
   ]
  },
  {
   "cell_type": "code",
   "execution_count": 40,
   "id": "476fb98a",
   "metadata": {
    "execution": {
     "iopub.execute_input": "2022-09-17T01:43:52.342880Z",
     "iopub.status.busy": "2022-09-17T01:43:52.342162Z",
     "iopub.status.idle": "2022-09-17T01:43:52.358338Z",
     "shell.execute_reply": "2022-09-17T01:43:52.357428Z"
    },
    "papermill": {
     "duration": 0.043864,
     "end_time": "2022-09-17T01:43:52.360488",
     "exception": false,
     "start_time": "2022-09-17T01:43:52.316624",
     "status": "completed"
    },
    "tags": []
   },
   "outputs": [
    {
     "data": {
      "text/html": [
       "<div>\n",
       "<style scoped>\n",
       "    .dataframe tbody tr th:only-of-type {\n",
       "        vertical-align: middle;\n",
       "    }\n",
       "\n",
       "    .dataframe tbody tr th {\n",
       "        vertical-align: top;\n",
       "    }\n",
       "\n",
       "    .dataframe thead th {\n",
       "        text-align: right;\n",
       "    }\n",
       "</style>\n",
       "<table border=\"1\" class=\"dataframe\">\n",
       "  <thead>\n",
       "    <tr style=\"text-align: right;\">\n",
       "      <th></th>\n",
       "      <th>PassengerId</th>\n",
       "      <th>Survived</th>\n",
       "      <th>Pclass</th>\n",
       "      <th>Name</th>\n",
       "      <th>Sex</th>\n",
       "      <th>Age</th>\n",
       "      <th>SibSp</th>\n",
       "      <th>Parch</th>\n",
       "      <th>Ticket</th>\n",
       "      <th>Fare</th>\n",
       "      <th>Cabin</th>\n",
       "      <th>Embarked</th>\n",
       "      <th>Title</th>\n",
       "    </tr>\n",
       "  </thead>\n",
       "  <tbody>\n",
       "    <tr>\n",
       "      <th>61</th>\n",
       "      <td>62</td>\n",
       "      <td>1</td>\n",
       "      <td>1</td>\n",
       "      <td>Icard, Miss. Amelie</td>\n",
       "      <td>female</td>\n",
       "      <td>38.0</td>\n",
       "      <td>0</td>\n",
       "      <td>0</td>\n",
       "      <td>113572</td>\n",
       "      <td>80.0</td>\n",
       "      <td>B28</td>\n",
       "      <td>NaN</td>\n",
       "      <td>Miss.</td>\n",
       "    </tr>\n",
       "    <tr>\n",
       "      <th>829</th>\n",
       "      <td>830</td>\n",
       "      <td>1</td>\n",
       "      <td>1</td>\n",
       "      <td>Stone, Mrs. George Nelson (Martha Evelyn)</td>\n",
       "      <td>female</td>\n",
       "      <td>62.0</td>\n",
       "      <td>0</td>\n",
       "      <td>0</td>\n",
       "      <td>113572</td>\n",
       "      <td>80.0</td>\n",
       "      <td>B28</td>\n",
       "      <td>NaN</td>\n",
       "      <td>Mrs.</td>\n",
       "    </tr>\n",
       "  </tbody>\n",
       "</table>\n",
       "</div>"
      ],
      "text/plain": [
       "     PassengerId  Survived  Pclass                                       Name  \\\n",
       "61            62         1       1                        Icard, Miss. Amelie   \n",
       "829          830         1       1  Stone, Mrs. George Nelson (Martha Evelyn)   \n",
       "\n",
       "        Sex   Age  SibSp  Parch  Ticket  Fare Cabin Embarked  Title  \n",
       "61   female  38.0      0      0  113572  80.0   B28      NaN  Miss.  \n",
       "829  female  62.0      0      0  113572  80.0   B28      NaN   Mrs.  "
      ]
     },
     "execution_count": 40,
     "metadata": {},
     "output_type": "execute_result"
    }
   ],
   "source": [
    "train_data[train_data[\"Embarked\"].isnull()]"
   ]
  },
  {
   "cell_type": "code",
   "execution_count": 41,
   "id": "6a90e46b",
   "metadata": {
    "execution": {
     "iopub.execute_input": "2022-09-17T01:43:52.412606Z",
     "iopub.status.busy": "2022-09-17T01:43:52.411896Z",
     "iopub.status.idle": "2022-09-17T01:43:52.431246Z",
     "shell.execute_reply": "2022-09-17T01:43:52.430076Z"
    },
    "papermill": {
     "duration": 0.047559,
     "end_time": "2022-09-17T01:43:52.433540",
     "exception": false,
     "start_time": "2022-09-17T01:43:52.385981",
     "status": "completed"
    },
    "tags": []
   },
   "outputs": [
    {
     "data": {
      "text/html": [
       "<div>\n",
       "<style scoped>\n",
       "    .dataframe tbody tr th:only-of-type {\n",
       "        vertical-align: middle;\n",
       "    }\n",
       "\n",
       "    .dataframe tbody tr th {\n",
       "        vertical-align: top;\n",
       "    }\n",
       "\n",
       "    .dataframe thead th {\n",
       "        text-align: right;\n",
       "    }\n",
       "</style>\n",
       "<table border=\"1\" class=\"dataframe\">\n",
       "  <thead>\n",
       "    <tr style=\"text-align: right;\">\n",
       "      <th></th>\n",
       "      <th>PassengerId</th>\n",
       "      <th>Survived</th>\n",
       "      <th>Pclass</th>\n",
       "      <th>Name</th>\n",
       "      <th>Sex</th>\n",
       "      <th>Age</th>\n",
       "      <th>SibSp</th>\n",
       "      <th>Parch</th>\n",
       "      <th>Ticket</th>\n",
       "      <th>Fare</th>\n",
       "      <th>Cabin</th>\n",
       "      <th>Embarked</th>\n",
       "      <th>Title</th>\n",
       "    </tr>\n",
       "  </thead>\n",
       "  <tbody>\n",
       "    <tr>\n",
       "      <th>61</th>\n",
       "      <td>62</td>\n",
       "      <td>1</td>\n",
       "      <td>1</td>\n",
       "      <td>Icard, Miss. Amelie</td>\n",
       "      <td>female</td>\n",
       "      <td>38.0</td>\n",
       "      <td>0</td>\n",
       "      <td>0</td>\n",
       "      <td>113572</td>\n",
       "      <td>80.0</td>\n",
       "      <td>B28</td>\n",
       "      <td>NaN</td>\n",
       "      <td>Miss.</td>\n",
       "    </tr>\n",
       "    <tr>\n",
       "      <th>540</th>\n",
       "      <td>541</td>\n",
       "      <td>1</td>\n",
       "      <td>1</td>\n",
       "      <td>Crosby, Miss. Harriet R</td>\n",
       "      <td>female</td>\n",
       "      <td>36.0</td>\n",
       "      <td>0</td>\n",
       "      <td>2</td>\n",
       "      <td>WE/P 5735</td>\n",
       "      <td>71.0</td>\n",
       "      <td>B22</td>\n",
       "      <td>S</td>\n",
       "      <td>Miss.</td>\n",
       "    </tr>\n",
       "    <tr>\n",
       "      <th>690</th>\n",
       "      <td>691</td>\n",
       "      <td>1</td>\n",
       "      <td>1</td>\n",
       "      <td>Dick, Mr. Albert Adrian</td>\n",
       "      <td>male</td>\n",
       "      <td>31.0</td>\n",
       "      <td>1</td>\n",
       "      <td>0</td>\n",
       "      <td>17474</td>\n",
       "      <td>57.0</td>\n",
       "      <td>B20</td>\n",
       "      <td>S</td>\n",
       "      <td>Mr.</td>\n",
       "    </tr>\n",
       "    <tr>\n",
       "      <th>745</th>\n",
       "      <td>746</td>\n",
       "      <td>0</td>\n",
       "      <td>1</td>\n",
       "      <td>Crosby, Capt. Edward Gifford</td>\n",
       "      <td>male</td>\n",
       "      <td>70.0</td>\n",
       "      <td>1</td>\n",
       "      <td>1</td>\n",
       "      <td>WE/P 5735</td>\n",
       "      <td>71.0</td>\n",
       "      <td>B22</td>\n",
       "      <td>S</td>\n",
       "      <td>Capt.</td>\n",
       "    </tr>\n",
       "    <tr>\n",
       "      <th>781</th>\n",
       "      <td>782</td>\n",
       "      <td>1</td>\n",
       "      <td>1</td>\n",
       "      <td>Dick, Mrs. Albert Adrian (Vera Gillespie)</td>\n",
       "      <td>female</td>\n",
       "      <td>17.0</td>\n",
       "      <td>1</td>\n",
       "      <td>0</td>\n",
       "      <td>17474</td>\n",
       "      <td>57.0</td>\n",
       "      <td>B20</td>\n",
       "      <td>S</td>\n",
       "      <td>Mrs.</td>\n",
       "    </tr>\n",
       "    <tr>\n",
       "      <th>829</th>\n",
       "      <td>830</td>\n",
       "      <td>1</td>\n",
       "      <td>1</td>\n",
       "      <td>Stone, Mrs. George Nelson (Martha Evelyn)</td>\n",
       "      <td>female</td>\n",
       "      <td>62.0</td>\n",
       "      <td>0</td>\n",
       "      <td>0</td>\n",
       "      <td>113572</td>\n",
       "      <td>80.0</td>\n",
       "      <td>B28</td>\n",
       "      <td>NaN</td>\n",
       "      <td>Mrs.</td>\n",
       "    </tr>\n",
       "  </tbody>\n",
       "</table>\n",
       "</div>"
      ],
      "text/plain": [
       "     PassengerId  Survived  Pclass                                       Name  \\\n",
       "61            62         1       1                        Icard, Miss. Amelie   \n",
       "540          541         1       1                    Crosby, Miss. Harriet R   \n",
       "690          691         1       1                    Dick, Mr. Albert Adrian   \n",
       "745          746         0       1               Crosby, Capt. Edward Gifford   \n",
       "781          782         1       1  Dick, Mrs. Albert Adrian (Vera Gillespie)   \n",
       "829          830         1       1  Stone, Mrs. George Nelson (Martha Evelyn)   \n",
       "\n",
       "        Sex   Age  SibSp  Parch     Ticket  Fare Cabin Embarked  Title  \n",
       "61   female  38.0      0      0     113572  80.0   B28      NaN  Miss.  \n",
       "540  female  36.0      0      2  WE/P 5735  71.0   B22        S  Miss.  \n",
       "690    male  31.0      1      0      17474  57.0   B20        S    Mr.  \n",
       "745    male  70.0      1      1  WE/P 5735  71.0   B22        S  Capt.  \n",
       "781  female  17.0      1      0      17474  57.0   B20        S   Mrs.  \n",
       "829  female  62.0      0      0     113572  80.0   B28      NaN   Mrs.  "
      ]
     },
     "execution_count": 41,
     "metadata": {},
     "output_type": "execute_result"
    }
   ],
   "source": [
    "train_data[train_data['Cabin'].str.match('B2\\d')== True]"
   ]
  },
  {
   "cell_type": "markdown",
   "id": "570c7573",
   "metadata": {
    "papermill": {
     "duration": 0.023563,
     "end_time": "2022-09-17T01:43:52.481558",
     "exception": false,
     "start_time": "2022-09-17T01:43:52.457995",
     "status": "completed"
    },
    "tags": []
   },
   "source": [
    "Two null Embarked values are probably \"S\" since passengers who have cabins with similar values have embarked from Southampton"
   ]
  },
  {
   "cell_type": "code",
   "execution_count": 42,
   "id": "e0a845c9",
   "metadata": {
    "execution": {
     "iopub.execute_input": "2022-09-17T01:43:52.532974Z",
     "iopub.status.busy": "2022-09-17T01:43:52.531787Z",
     "iopub.status.idle": "2022-09-17T01:43:52.537704Z",
     "shell.execute_reply": "2022-09-17T01:43:52.536882Z"
    },
    "papermill": {
     "duration": 0.033532,
     "end_time": "2022-09-17T01:43:52.539856",
     "exception": false,
     "start_time": "2022-09-17T01:43:52.506324",
     "status": "completed"
    },
    "tags": []
   },
   "outputs": [],
   "source": [
    "train_data[\"Embarked\"].fillna(\"S\", inplace = True)"
   ]
  },
  {
   "cell_type": "code",
   "execution_count": 43,
   "id": "60622930",
   "metadata": {
    "execution": {
     "iopub.execute_input": "2022-09-17T01:43:52.590357Z",
     "iopub.status.busy": "2022-09-17T01:43:52.589335Z",
     "iopub.status.idle": "2022-09-17T01:43:52.596602Z",
     "shell.execute_reply": "2022-09-17T01:43:52.595856Z"
    },
    "papermill": {
     "duration": 0.034479,
     "end_time": "2022-09-17T01:43:52.598591",
     "exception": false,
     "start_time": "2022-09-17T01:43:52.564112",
     "status": "completed"
    },
    "tags": []
   },
   "outputs": [
    {
     "data": {
      "text/plain": [
       "0"
      ]
     },
     "execution_count": 43,
     "metadata": {},
     "output_type": "execute_result"
    }
   ],
   "source": [
    "len(test_data[test_data[\"Age\"].isnull()])"
   ]
  },
  {
   "cell_type": "markdown",
   "id": "6d83e19e",
   "metadata": {
    "papermill": {
     "duration": 0.024484,
     "end_time": "2022-09-17T01:43:52.648135",
     "exception": false,
     "start_time": "2022-09-17T01:43:52.623651",
     "status": "completed"
    },
    "tags": []
   },
   "source": [
    "We also have one null \"Fare\" value we need to fill"
   ]
  },
  {
   "cell_type": "code",
   "execution_count": 44,
   "id": "8d907265",
   "metadata": {
    "execution": {
     "iopub.execute_input": "2022-09-17T01:43:52.701031Z",
     "iopub.status.busy": "2022-09-17T01:43:52.700273Z",
     "iopub.status.idle": "2022-09-17T01:43:52.716413Z",
     "shell.execute_reply": "2022-09-17T01:43:52.714999Z"
    },
    "papermill": {
     "duration": 0.045815,
     "end_time": "2022-09-17T01:43:52.719160",
     "exception": false,
     "start_time": "2022-09-17T01:43:52.673345",
     "status": "completed"
    },
    "tags": []
   },
   "outputs": [
    {
     "data": {
      "text/html": [
       "<div>\n",
       "<style scoped>\n",
       "    .dataframe tbody tr th:only-of-type {\n",
       "        vertical-align: middle;\n",
       "    }\n",
       "\n",
       "    .dataframe tbody tr th {\n",
       "        vertical-align: top;\n",
       "    }\n",
       "\n",
       "    .dataframe thead th {\n",
       "        text-align: right;\n",
       "    }\n",
       "</style>\n",
       "<table border=\"1\" class=\"dataframe\">\n",
       "  <thead>\n",
       "    <tr style=\"text-align: right;\">\n",
       "      <th></th>\n",
       "      <th>PassengerId</th>\n",
       "      <th>Pclass</th>\n",
       "      <th>Name</th>\n",
       "      <th>Sex</th>\n",
       "      <th>Age</th>\n",
       "      <th>SibSp</th>\n",
       "      <th>Parch</th>\n",
       "      <th>Ticket</th>\n",
       "      <th>Fare</th>\n",
       "      <th>Cabin</th>\n",
       "      <th>Embarked</th>\n",
       "      <th>Title</th>\n",
       "    </tr>\n",
       "  </thead>\n",
       "  <tbody>\n",
       "    <tr>\n",
       "      <th>152</th>\n",
       "      <td>1044</td>\n",
       "      <td>3</td>\n",
       "      <td>Storey, Mr. Thomas</td>\n",
       "      <td>male</td>\n",
       "      <td>60.5</td>\n",
       "      <td>0</td>\n",
       "      <td>0</td>\n",
       "      <td>3701</td>\n",
       "      <td>NaN</td>\n",
       "      <td>NaN</td>\n",
       "      <td>S</td>\n",
       "      <td>Mr.</td>\n",
       "    </tr>\n",
       "  </tbody>\n",
       "</table>\n",
       "</div>"
      ],
      "text/plain": [
       "     PassengerId  Pclass                Name   Sex   Age  SibSp  Parch Ticket  \\\n",
       "152         1044       3  Storey, Mr. Thomas  male  60.5      0      0   3701   \n",
       "\n",
       "     Fare Cabin Embarked Title  \n",
       "152   NaN   NaN        S   Mr.  "
      ]
     },
     "execution_count": 44,
     "metadata": {},
     "output_type": "execute_result"
    }
   ],
   "source": [
    "test_data[test_data[\"Fare\"].isnull()]"
   ]
  },
  {
   "cell_type": "code",
   "execution_count": 45,
   "id": "30e22295",
   "metadata": {
    "execution": {
     "iopub.execute_input": "2022-09-17T01:43:52.769638Z",
     "iopub.status.busy": "2022-09-17T01:43:52.769197Z",
     "iopub.status.idle": "2022-09-17T01:43:52.782809Z",
     "shell.execute_reply": "2022-09-17T01:43:52.781613Z"
    },
    "papermill": {
     "duration": 0.041675,
     "end_time": "2022-09-17T01:43:52.785097",
     "exception": false,
     "start_time": "2022-09-17T01:43:52.743422",
     "status": "completed"
    },
    "tags": []
   },
   "outputs": [
    {
     "data": {
      "text/html": [
       "<div>\n",
       "<style scoped>\n",
       "    .dataframe tbody tr th:only-of-type {\n",
       "        vertical-align: middle;\n",
       "    }\n",
       "\n",
       "    .dataframe tbody tr th {\n",
       "        vertical-align: top;\n",
       "    }\n",
       "\n",
       "    .dataframe thead th {\n",
       "        text-align: right;\n",
       "    }\n",
       "</style>\n",
       "<table border=\"1\" class=\"dataframe\">\n",
       "  <thead>\n",
       "    <tr style=\"text-align: right;\">\n",
       "      <th></th>\n",
       "      <th></th>\n",
       "      <th>Fare</th>\n",
       "    </tr>\n",
       "    <tr>\n",
       "      <th>Pclass</th>\n",
       "      <th>Embarked</th>\n",
       "      <th></th>\n",
       "    </tr>\n",
       "  </thead>\n",
       "  <tbody>\n",
       "    <tr>\n",
       "      <th rowspan=\"3\" valign=\"top\">1</th>\n",
       "      <th>C</th>\n",
       "      <td>75.24585</td>\n",
       "    </tr>\n",
       "    <tr>\n",
       "      <th>Q</th>\n",
       "      <td>90.00000</td>\n",
       "    </tr>\n",
       "    <tr>\n",
       "      <th>S</th>\n",
       "      <td>51.67085</td>\n",
       "    </tr>\n",
       "    <tr>\n",
       "      <th rowspan=\"3\" valign=\"top\">2</th>\n",
       "      <th>C</th>\n",
       "      <td>15.04580</td>\n",
       "    </tr>\n",
       "    <tr>\n",
       "      <th>Q</th>\n",
       "      <td>11.52915</td>\n",
       "    </tr>\n",
       "    <tr>\n",
       "      <th>S</th>\n",
       "      <td>21.00000</td>\n",
       "    </tr>\n",
       "    <tr>\n",
       "      <th rowspan=\"3\" valign=\"top\">3</th>\n",
       "      <th>C</th>\n",
       "      <td>7.22920</td>\n",
       "    </tr>\n",
       "    <tr>\n",
       "      <th>Q</th>\n",
       "      <td>7.75000</td>\n",
       "    </tr>\n",
       "    <tr>\n",
       "      <th>S</th>\n",
       "      <td>8.05000</td>\n",
       "    </tr>\n",
       "  </tbody>\n",
       "</table>\n",
       "</div>"
      ],
      "text/plain": [
       "                     Fare\n",
       "Pclass Embarked          \n",
       "1      C         75.24585\n",
       "       Q         90.00000\n",
       "       S         51.67085\n",
       "2      C         15.04580\n",
       "       Q         11.52915\n",
       "       S         21.00000\n",
       "3      C          7.22920\n",
       "       Q          7.75000\n",
       "       S          8.05000"
      ]
     },
     "execution_count": 45,
     "metadata": {},
     "output_type": "execute_result"
    }
   ],
   "source": [
    "test_data.groupby([\"Pclass\", \"Embarked\"])[\"Fare\"].median().to_frame()"
   ]
  },
  {
   "cell_type": "markdown",
   "id": "a65020cf",
   "metadata": {
    "papermill": {
     "duration": 0.023972,
     "end_time": "2022-09-17T01:43:52.833345",
     "exception": false,
     "start_time": "2022-09-17T01:43:52.809373",
     "status": "completed"
    },
    "tags": []
   },
   "source": [
    "Since the person with the null Fare value is in 3rd class and has embarked from Southampton, The Fare value should be around 8.05"
   ]
  },
  {
   "cell_type": "code",
   "execution_count": 46,
   "id": "747b490c",
   "metadata": {
    "execution": {
     "iopub.execute_input": "2022-09-17T01:43:52.884092Z",
     "iopub.status.busy": "2022-09-17T01:43:52.883653Z",
     "iopub.status.idle": "2022-09-17T01:43:52.889502Z",
     "shell.execute_reply": "2022-09-17T01:43:52.888635Z"
    },
    "papermill": {
     "duration": 0.033825,
     "end_time": "2022-09-17T01:43:52.891479",
     "exception": false,
     "start_time": "2022-09-17T01:43:52.857654",
     "status": "completed"
    },
    "tags": []
   },
   "outputs": [],
   "source": [
    "test_data.loc[test_data[\"Fare\"].isnull(), \"Fare\"] = 8.05"
   ]
  },
  {
   "cell_type": "code",
   "execution_count": 47,
   "id": "e9d678da",
   "metadata": {
    "execution": {
     "iopub.execute_input": "2022-09-17T01:43:52.941991Z",
     "iopub.status.busy": "2022-09-17T01:43:52.941590Z",
     "iopub.status.idle": "2022-09-17T01:43:52.948432Z",
     "shell.execute_reply": "2022-09-17T01:43:52.947556Z"
    },
    "papermill": {
     "duration": 0.034481,
     "end_time": "2022-09-17T01:43:52.950397",
     "exception": false,
     "start_time": "2022-09-17T01:43:52.915916",
     "status": "completed"
    },
    "tags": []
   },
   "outputs": [
    {
     "data": {
      "text/plain": [
       "0"
      ]
     },
     "execution_count": 47,
     "metadata": {},
     "output_type": "execute_result"
    }
   ],
   "source": [
    "len(test_data[test_data[\"Fare\"].isnull()])"
   ]
  },
  {
   "cell_type": "code",
   "execution_count": 48,
   "id": "08af0d72",
   "metadata": {
    "execution": {
     "iopub.execute_input": "2022-09-17T01:43:53.001768Z",
     "iopub.status.busy": "2022-09-17T01:43:53.001033Z",
     "iopub.status.idle": "2022-09-17T01:43:53.014669Z",
     "shell.execute_reply": "2022-09-17T01:43:53.013481Z"
    },
    "papermill": {
     "duration": 0.041576,
     "end_time": "2022-09-17T01:43:53.016861",
     "exception": false,
     "start_time": "2022-09-17T01:43:52.975285",
     "status": "completed"
    },
    "tags": []
   },
   "outputs": [
    {
     "name": "stdout",
     "output_type": "stream",
     "text": [
      "<class 'pandas.core.frame.DataFrame'>\n",
      "RangeIndex: 891 entries, 0 to 890\n",
      "Data columns (total 13 columns):\n",
      " #   Column       Non-Null Count  Dtype  \n",
      "---  ------       --------------  -----  \n",
      " 0   PassengerId  891 non-null    int64  \n",
      " 1   Survived     891 non-null    int64  \n",
      " 2   Pclass       891 non-null    int64  \n",
      " 3   Name         891 non-null    object \n",
      " 4   Sex          891 non-null    object \n",
      " 5   Age          891 non-null    float64\n",
      " 6   SibSp        891 non-null    int64  \n",
      " 7   Parch        891 non-null    int64  \n",
      " 8   Ticket       891 non-null    object \n",
      " 9   Fare         891 non-null    float64\n",
      " 10  Cabin        204 non-null    object \n",
      " 11  Embarked     891 non-null    object \n",
      " 12  Title        891 non-null    object \n",
      "dtypes: float64(2), int64(5), object(6)\n",
      "memory usage: 90.6+ KB\n"
     ]
    }
   ],
   "source": [
    "train_data.info()"
   ]
  },
  {
   "cell_type": "code",
   "execution_count": 49,
   "id": "aabec76e",
   "metadata": {
    "execution": {
     "iopub.execute_input": "2022-09-17T01:43:53.069141Z",
     "iopub.status.busy": "2022-09-17T01:43:53.068263Z",
     "iopub.status.idle": "2022-09-17T01:43:53.082699Z",
     "shell.execute_reply": "2022-09-17T01:43:53.080888Z"
    },
    "papermill": {
     "duration": 0.043536,
     "end_time": "2022-09-17T01:43:53.085104",
     "exception": false,
     "start_time": "2022-09-17T01:43:53.041568",
     "status": "completed"
    },
    "tags": []
   },
   "outputs": [
    {
     "name": "stdout",
     "output_type": "stream",
     "text": [
      "<class 'pandas.core.frame.DataFrame'>\n",
      "RangeIndex: 418 entries, 0 to 417\n",
      "Data columns (total 12 columns):\n",
      " #   Column       Non-Null Count  Dtype  \n",
      "---  ------       --------------  -----  \n",
      " 0   PassengerId  418 non-null    int64  \n",
      " 1   Pclass       418 non-null    int64  \n",
      " 2   Name         418 non-null    object \n",
      " 3   Sex          418 non-null    object \n",
      " 4   Age          418 non-null    float64\n",
      " 5   SibSp        418 non-null    int64  \n",
      " 6   Parch        418 non-null    int64  \n",
      " 7   Ticket       418 non-null    object \n",
      " 8   Fare         418 non-null    float64\n",
      " 9   Cabin        91 non-null     object \n",
      " 10  Embarked     418 non-null    object \n",
      " 11  Title        418 non-null    object \n",
      "dtypes: float64(2), int64(4), object(6)\n",
      "memory usage: 39.3+ KB\n"
     ]
    }
   ],
   "source": [
    "test_data.info()"
   ]
  },
  {
   "cell_type": "markdown",
   "id": "bc99e9b0",
   "metadata": {
    "papermill": {
     "duration": 0.024485,
     "end_time": "2022-09-17T01:43:53.134498",
     "exception": false,
     "start_time": "2022-09-17T01:43:53.110013",
     "status": "completed"
    },
    "tags": []
   },
   "source": [
    "# Split The Data"
   ]
  },
  {
   "cell_type": "code",
   "execution_count": 50,
   "id": "ca1065b2",
   "metadata": {
    "execution": {
     "iopub.execute_input": "2022-09-17T01:43:53.186483Z",
     "iopub.status.busy": "2022-09-17T01:43:53.185713Z",
     "iopub.status.idle": "2022-09-17T01:43:53.195393Z",
     "shell.execute_reply": "2022-09-17T01:43:53.194364Z"
    },
    "papermill": {
     "duration": 0.038379,
     "end_time": "2022-09-17T01:43:53.197644",
     "exception": false,
     "start_time": "2022-09-17T01:43:53.159265",
     "status": "completed"
    },
    "tags": []
   },
   "outputs": [],
   "source": [
    "X = train_data.drop([\"PassengerId\", \"Survived\", \"Name\", \"Ticket\", \"Cabin\", \"Title\"], axis=1 ) \n",
    "y = train_data[\"Survived\"].to_frame()\n",
    "\n",
    "X_train, X_val, y_train, y_val = train_test_split(X, y, test_size=0.2, random_state=42)\n",
    "\n",
    "X_test = test_data.drop([\"PassengerId\", \"Name\", \"Ticket\", \"Cabin\", \"Title\"], axis=1)"
   ]
  },
  {
   "cell_type": "code",
   "execution_count": 51,
   "id": "14646b92",
   "metadata": {
    "execution": {
     "iopub.execute_input": "2022-09-17T01:43:53.249780Z",
     "iopub.status.busy": "2022-09-17T01:43:53.249023Z",
     "iopub.status.idle": "2022-09-17T01:43:53.270830Z",
     "shell.execute_reply": "2022-09-17T01:43:53.269327Z"
    },
    "papermill": {
     "duration": 0.050579,
     "end_time": "2022-09-17T01:43:53.273113",
     "exception": false,
     "start_time": "2022-09-17T01:43:53.222534",
     "status": "completed"
    },
    "tags": []
   },
   "outputs": [
    {
     "data": {
      "text/html": [
       "<div>\n",
       "<style scoped>\n",
       "    .dataframe tbody tr th:only-of-type {\n",
       "        vertical-align: middle;\n",
       "    }\n",
       "\n",
       "    .dataframe tbody tr th {\n",
       "        vertical-align: top;\n",
       "    }\n",
       "\n",
       "    .dataframe thead th {\n",
       "        text-align: right;\n",
       "    }\n",
       "</style>\n",
       "<table border=\"1\" class=\"dataframe\">\n",
       "  <thead>\n",
       "    <tr style=\"text-align: right;\">\n",
       "      <th></th>\n",
       "      <th>Pclass</th>\n",
       "      <th>Sex</th>\n",
       "      <th>Age</th>\n",
       "      <th>SibSp</th>\n",
       "      <th>Parch</th>\n",
       "      <th>Fare</th>\n",
       "      <th>Embarked</th>\n",
       "    </tr>\n",
       "  </thead>\n",
       "  <tbody>\n",
       "    <tr>\n",
       "      <th>331</th>\n",
       "      <td>1</td>\n",
       "      <td>1</td>\n",
       "      <td>45.5</td>\n",
       "      <td>0</td>\n",
       "      <td>0</td>\n",
       "      <td>28.5000</td>\n",
       "      <td>2</td>\n",
       "    </tr>\n",
       "    <tr>\n",
       "      <th>733</th>\n",
       "      <td>2</td>\n",
       "      <td>1</td>\n",
       "      <td>23.0</td>\n",
       "      <td>0</td>\n",
       "      <td>0</td>\n",
       "      <td>13.0000</td>\n",
       "      <td>2</td>\n",
       "    </tr>\n",
       "    <tr>\n",
       "      <th>382</th>\n",
       "      <td>3</td>\n",
       "      <td>1</td>\n",
       "      <td>32.0</td>\n",
       "      <td>0</td>\n",
       "      <td>0</td>\n",
       "      <td>7.9250</td>\n",
       "      <td>2</td>\n",
       "    </tr>\n",
       "    <tr>\n",
       "      <th>704</th>\n",
       "      <td>3</td>\n",
       "      <td>1</td>\n",
       "      <td>26.0</td>\n",
       "      <td>1</td>\n",
       "      <td>0</td>\n",
       "      <td>7.8542</td>\n",
       "      <td>2</td>\n",
       "    </tr>\n",
       "    <tr>\n",
       "      <th>813</th>\n",
       "      <td>3</td>\n",
       "      <td>0</td>\n",
       "      <td>6.0</td>\n",
       "      <td>4</td>\n",
       "      <td>2</td>\n",
       "      <td>31.2750</td>\n",
       "      <td>2</td>\n",
       "    </tr>\n",
       "  </tbody>\n",
       "</table>\n",
       "</div>"
      ],
      "text/plain": [
       "     Pclass  Sex   Age  SibSp  Parch     Fare  Embarked\n",
       "331       1    1  45.5      0      0  28.5000         2\n",
       "733       2    1  23.0      0      0  13.0000         2\n",
       "382       3    1  32.0      0      0   7.9250         2\n",
       "704       3    1  26.0      1      0   7.8542         2\n",
       "813       3    0   6.0      4      2  31.2750         2"
      ]
     },
     "execution_count": 51,
     "metadata": {},
     "output_type": "execute_result"
    }
   ],
   "source": [
    "X_train[['Sex', 'Embarked']] = X_train[['Sex', 'Embarked']].apply(LabelEncoder().fit_transform)\n",
    "X_val[['Sex', 'Embarked']] = X_val[['Sex', 'Embarked']].apply(LabelEncoder().fit_transform)\n",
    "X_test[['Sex', 'Embarked']] = X_test[['Sex', 'Embarked']].apply(LabelEncoder().fit_transform)\n",
    "X_train.head()"
   ]
  },
  {
   "cell_type": "markdown",
   "id": "23894245",
   "metadata": {
    "papermill": {
     "duration": 0.024573,
     "end_time": "2022-09-17T01:43:53.322794",
     "exception": false,
     "start_time": "2022-09-17T01:43:53.298221",
     "status": "completed"
    },
    "tags": []
   },
   "source": [
    "# Logistic Regression"
   ]
  },
  {
   "cell_type": "code",
   "execution_count": 52,
   "id": "dd538742",
   "metadata": {
    "execution": {
     "iopub.execute_input": "2022-09-17T01:43:53.374910Z",
     "iopub.status.busy": "2022-09-17T01:43:53.374375Z",
     "iopub.status.idle": "2022-09-17T01:43:57.846928Z",
     "shell.execute_reply": "2022-09-17T01:43:57.845141Z"
    },
    "papermill": {
     "duration": 4.50151,
     "end_time": "2022-09-17T01:43:57.849804",
     "exception": false,
     "start_time": "2022-09-17T01:43:53.348294",
     "status": "completed"
    },
    "tags": []
   },
   "outputs": [
    {
     "name": "stdout",
     "output_type": "stream",
     "text": [
      "Fitting 5 folds for each of 99 candidates, totalling 495 fits\n",
      "0.810371318822023 {'model__C': 0.013000000000000001}\n"
     ]
    }
   ],
   "source": [
    "params = { 'model__C' : np.arange(0.001, 0.1, 0.001) }\n",
    "\n",
    "LR_pipeline = Pipeline([('Scaler', StandardScaler()),\n",
    "                             ('model', LogisticRegression(random_state=42))])\n",
    "\n",
    "kfold = StratifiedKFold(n_splits=5, shuffle=True, random_state=42)\n",
    "LR_GS = GridSearchCV(LR_pipeline, param_grid=params, cv=kfold, scoring=\"accuracy\", n_jobs=-1, verbose=1)\n",
    "LR_GS.fit(X_train, y_train.values.ravel())\n",
    "LR_model = LR_GS.best_estimator_[1]\n",
    "print(LR_GS.best_score_,\n",
    "LR_GS.best_params_)"
   ]
  },
  {
   "cell_type": "code",
   "execution_count": 53,
   "id": "614f2047",
   "metadata": {
    "execution": {
     "iopub.execute_input": "2022-09-17T01:43:57.902577Z",
     "iopub.status.busy": "2022-09-17T01:43:57.902094Z",
     "iopub.status.idle": "2022-09-17T01:43:57.918378Z",
     "shell.execute_reply": "2022-09-17T01:43:57.916640Z"
    },
    "papermill": {
     "duration": 0.046391,
     "end_time": "2022-09-17T01:43:57.921480",
     "exception": false,
     "start_time": "2022-09-17T01:43:57.875089",
     "status": "completed"
    },
    "tags": []
   },
   "outputs": [
    {
     "name": "stdout",
     "output_type": "stream",
     "text": [
      "score : 0.8100558659217877, f1_score : 0.746268656716418\n"
     ]
    }
   ],
   "source": [
    "scaler = StandardScaler().fit(X_val)\n",
    "X_val = scaler.transform(X_val)\n",
    "LR_predicts = LR_model.predict(X_val)\n",
    "score = LR_model.score(X_val, y_val.values.ravel())\n",
    "f1score = f1_score(LR_predicts, y_val.values.ravel())\n",
    "print(f\"score : {score}, f1_score : {f1score}\")"
   ]
  },
  {
   "cell_type": "markdown",
   "id": "cfe16fea",
   "metadata": {
    "papermill": {
     "duration": 0.024543,
     "end_time": "2022-09-17T01:43:57.971963",
     "exception": false,
     "start_time": "2022-09-17T01:43:57.947420",
     "status": "completed"
    },
    "tags": []
   },
   "source": [
    "# Random Forest Classifier"
   ]
  },
  {
   "cell_type": "code",
   "execution_count": 54,
   "id": "6a5a095c",
   "metadata": {
    "execution": {
     "iopub.execute_input": "2022-09-17T01:43:58.023671Z",
     "iopub.status.busy": "2022-09-17T01:43:58.023273Z",
     "iopub.status.idle": "2022-09-17T01:44:40.516085Z",
     "shell.execute_reply": "2022-09-17T01:44:40.514908Z"
    },
    "papermill": {
     "duration": 42.544936,
     "end_time": "2022-09-17T01:44:40.541779",
     "exception": false,
     "start_time": "2022-09-17T01:43:57.996843",
     "status": "completed"
    },
    "tags": []
   },
   "outputs": [
    {
     "name": "stdout",
     "output_type": "stream",
     "text": [
      "Fitting 5 folds for each of 160 candidates, totalling 800 fits\n",
      "0.8342460356544864 {'model__max_depth': 4, 'model__n_estimators': 73}\n"
     ]
    }
   ],
   "source": [
    "params = { 'model__max_depth' : np.arange(2, 10, 1),\n",
    "         'model__n_estimators' : np.arange(60, 80, 1)\n",
    "         }\n",
    "RF_pipeline = Pipeline([('scaler' , StandardScaler()),\n",
    "                            ('model' , RandomForestClassifier(random_state=42))])\n",
    "\n",
    "RF_GS = GridSearchCV(RF_pipeline, param_grid=params, cv=kfold, scoring='accuracy', n_jobs=-1, verbose=1)\n",
    "RF_GS.fit(X_train, y_train.values.ravel())\n",
    "RF_model = RF_GS.best_estimator_[1]\n",
    "print(RF_GS.best_score_, RF_GS.best_params_)"
   ]
  },
  {
   "cell_type": "code",
   "execution_count": 55,
   "id": "3955f1bc",
   "metadata": {
    "execution": {
     "iopub.execute_input": "2022-09-17T01:44:40.594919Z",
     "iopub.status.busy": "2022-09-17T01:44:40.594470Z",
     "iopub.status.idle": "2022-09-17T01:44:40.626792Z",
     "shell.execute_reply": "2022-09-17T01:44:40.624829Z"
    },
    "papermill": {
     "duration": 0.062317,
     "end_time": "2022-09-17T01:44:40.629880",
     "exception": false,
     "start_time": "2022-09-17T01:44:40.567563",
     "status": "completed"
    },
    "tags": []
   },
   "outputs": [
    {
     "name": "stdout",
     "output_type": "stream",
     "text": [
      "score : 0.8044692737430168, f1_score : 0.7445255474452555\n"
     ]
    }
   ],
   "source": [
    "RF_predicts = RF_model.predict(X_val)\n",
    "score = RF_model.score(X_val, y_val.values.ravel())\n",
    "f1score = f1_score(RF_predicts, y_val.values.ravel())\n",
    "print(f\"score : {score}, f1_score : {f1score}\")"
   ]
  },
  {
   "cell_type": "markdown",
   "id": "5b69ec9d",
   "metadata": {
    "papermill": {
     "duration": 0.025435,
     "end_time": "2022-09-17T01:44:40.681256",
     "exception": false,
     "start_time": "2022-09-17T01:44:40.655821",
     "status": "completed"
    },
    "tags": []
   },
   "source": [
    "# XGBoost Classifier"
   ]
  },
  {
   "cell_type": "code",
   "execution_count": 56,
   "id": "7a48ca98",
   "metadata": {
    "execution": {
     "iopub.execute_input": "2022-09-17T01:44:40.734221Z",
     "iopub.status.busy": "2022-09-17T01:44:40.733796Z",
     "iopub.status.idle": "2022-09-17T01:45:05.533998Z",
     "shell.execute_reply": "2022-09-17T01:45:05.532036Z"
    },
    "papermill": {
     "duration": 24.830824,
     "end_time": "2022-09-17T01:45:05.537712",
     "exception": false,
     "start_time": "2022-09-17T01:44:40.706888",
     "status": "completed"
    },
    "tags": []
   },
   "outputs": [
    {
     "name": "stdout",
     "output_type": "stream",
     "text": [
      "Fitting 5 folds for each of 40 candidates, totalling 200 fits\n",
      "0.8244459765586527 {'model__max_depth': 3, 'model__n_estimators': 71}\n"
     ]
    }
   ],
   "source": [
    "params = { 'model__max_depth' : np.arange(2, 10, 1),\n",
    "         'model__n_estimators' : np.arange(70, 75, 1)\n",
    "         }\n",
    "XG_pipeline = Pipeline([('scaler' , StandardScaler()),\n",
    "                            ('model' , XGBClassifier(random_state=42))])\n",
    "\n",
    "XG_GS = GridSearchCV(XG_pipeline, param_grid=params, cv=kfold, scoring='accuracy', n_jobs=-1, verbose=1)\n",
    "XG_GS.fit(X_train, y_train.values.ravel())\n",
    "XG_model = XG_GS.best_estimator_[1]\n",
    "print(XG_GS.best_score_, XG_GS.best_params_)"
   ]
  },
  {
   "cell_type": "code",
   "execution_count": 57,
   "id": "6ea56e6d",
   "metadata": {
    "execution": {
     "iopub.execute_input": "2022-09-17T01:45:05.592435Z",
     "iopub.status.busy": "2022-09-17T01:45:05.592045Z",
     "iopub.status.idle": "2022-09-17T01:45:05.609825Z",
     "shell.execute_reply": "2022-09-17T01:45:05.608512Z"
    },
    "papermill": {
     "duration": 0.048129,
     "end_time": "2022-09-17T01:45:05.613267",
     "exception": false,
     "start_time": "2022-09-17T01:45:05.565138",
     "status": "completed"
    },
    "tags": []
   },
   "outputs": [
    {
     "name": "stdout",
     "output_type": "stream",
     "text": [
      "score : 0.7877094972067039, f1_score : 0.7246376811594203\n"
     ]
    }
   ],
   "source": [
    "XG_predicts = XG_model.predict(X_val)\n",
    "score = XG_model.score(X_val, y_val.values.ravel())\n",
    "f1score = f1_score(XG_predicts, y_val.values.ravel())\n",
    "print(f\"score : {score}, f1_score : {f1score}\")"
   ]
  },
  {
   "cell_type": "markdown",
   "id": "44c43242",
   "metadata": {
    "papermill": {
     "duration": 0.025357,
     "end_time": "2022-09-17T01:45:05.667520",
     "exception": false,
     "start_time": "2022-09-17T01:45:05.642163",
     "status": "completed"
    },
    "tags": []
   },
   "source": [
    "# Neural Network"
   ]
  },
  {
   "cell_type": "code",
   "execution_count": 58,
   "id": "028fc22f",
   "metadata": {
    "execution": {
     "iopub.execute_input": "2022-09-17T01:45:05.721706Z",
     "iopub.status.busy": "2022-09-17T01:45:05.721282Z",
     "iopub.status.idle": "2022-09-17T01:45:10.619845Z",
     "shell.execute_reply": "2022-09-17T01:45:10.618659Z"
    },
    "papermill": {
     "duration": 4.928446,
     "end_time": "2022-09-17T01:45:10.622270",
     "exception": false,
     "start_time": "2022-09-17T01:45:05.693824",
     "status": "completed"
    },
    "tags": []
   },
   "outputs": [
    {
     "name": "stderr",
     "output_type": "stream",
     "text": [
      "2022-09-17 01:45:05.782838: I tensorflow/core/common_runtime/process_util.cc:146] Creating new thread pool with default inter op setting: 2. Tune using inter_op_parallelism_threads for best performance.\n",
      "2022-09-17 01:45:05.921247: I tensorflow/compiler/mlir/mlir_graph_optimization_pass.cc:185] None of the MLIR Optimization Passes are enabled (registered 2)\n"
     ]
    },
    {
     "name": "stdout",
     "output_type": "stream",
     "text": [
      "Epoch 1/70\n",
      "23/23 [==============================] - 1s 3ms/step - loss: 0.6875 - accuracy: 0.4705\n",
      "Epoch 2/70\n",
      "23/23 [==============================] - 0s 2ms/step - loss: 0.6500 - accuracy: 0.7514\n",
      "Epoch 3/70\n",
      "23/23 [==============================] - 0s 2ms/step - loss: 0.6124 - accuracy: 0.7851\n",
      "Epoch 4/70\n",
      "23/23 [==============================] - 0s 2ms/step - loss: 0.5610 - accuracy: 0.7935\n",
      "Epoch 5/70\n",
      "23/23 [==============================] - 0s 2ms/step - loss: 0.5061 - accuracy: 0.7949\n",
      "Epoch 6/70\n",
      "23/23 [==============================] - 0s 2ms/step - loss: 0.4691 - accuracy: 0.8020\n",
      "Epoch 7/70\n",
      "23/23 [==============================] - 0s 2ms/step - loss: 0.4516 - accuracy: 0.8062\n",
      "Epoch 8/70\n",
      "23/23 [==============================] - 0s 2ms/step - loss: 0.4442 - accuracy: 0.8062\n",
      "Epoch 9/70\n",
      "23/23 [==============================] - 0s 2ms/step - loss: 0.4386 - accuracy: 0.8076\n",
      "Epoch 10/70\n",
      "23/23 [==============================] - 0s 2ms/step - loss: 0.4318 - accuracy: 0.8104\n",
      "Epoch 11/70\n",
      "23/23 [==============================] - 0s 2ms/step - loss: 0.4263 - accuracy: 0.8090\n",
      "Epoch 12/70\n",
      "23/23 [==============================] - 0s 2ms/step - loss: 0.4228 - accuracy: 0.8132\n",
      "Epoch 13/70\n",
      "23/23 [==============================] - 0s 2ms/step - loss: 0.4206 - accuracy: 0.8118\n",
      "Epoch 14/70\n",
      "23/23 [==============================] - 0s 2ms/step - loss: 0.4175 - accuracy: 0.8160\n",
      "Epoch 15/70\n",
      "23/23 [==============================] - 0s 2ms/step - loss: 0.4149 - accuracy: 0.8174\n",
      "Epoch 16/70\n",
      "23/23 [==============================] - 0s 2ms/step - loss: 0.4125 - accuracy: 0.8272\n",
      "Epoch 17/70\n",
      "23/23 [==============================] - 0s 2ms/step - loss: 0.4112 - accuracy: 0.8258\n",
      "Epoch 18/70\n",
      "23/23 [==============================] - 0s 2ms/step - loss: 0.4092 - accuracy: 0.8230\n",
      "Epoch 19/70\n",
      "23/23 [==============================] - 0s 2ms/step - loss: 0.4081 - accuracy: 0.8287\n",
      "Epoch 20/70\n",
      "23/23 [==============================] - 0s 2ms/step - loss: 0.4056 - accuracy: 0.8287\n",
      "Epoch 21/70\n",
      "23/23 [==============================] - 0s 2ms/step - loss: 0.4054 - accuracy: 0.8272\n",
      "Epoch 22/70\n",
      "23/23 [==============================] - 0s 2ms/step - loss: 0.4032 - accuracy: 0.8357\n",
      "Epoch 23/70\n",
      "23/23 [==============================] - 0s 2ms/step - loss: 0.4025 - accuracy: 0.8287\n",
      "Epoch 24/70\n",
      "23/23 [==============================] - 0s 2ms/step - loss: 0.4006 - accuracy: 0.8329\n",
      "Epoch 25/70\n",
      "23/23 [==============================] - 0s 2ms/step - loss: 0.3993 - accuracy: 0.8343\n",
      "Epoch 26/70\n",
      "23/23 [==============================] - 0s 2ms/step - loss: 0.3981 - accuracy: 0.8385\n",
      "Epoch 27/70\n",
      "23/23 [==============================] - 0s 2ms/step - loss: 0.3980 - accuracy: 0.8357\n",
      "Epoch 28/70\n",
      "23/23 [==============================] - 0s 2ms/step - loss: 0.3963 - accuracy: 0.8399\n",
      "Epoch 29/70\n",
      "23/23 [==============================] - 0s 2ms/step - loss: 0.3985 - accuracy: 0.8329\n",
      "Epoch 30/70\n",
      "23/23 [==============================] - 0s 2ms/step - loss: 0.3939 - accuracy: 0.8385\n",
      "Epoch 31/70\n",
      "23/23 [==============================] - 0s 2ms/step - loss: 0.3945 - accuracy: 0.8427\n",
      "Epoch 32/70\n",
      "23/23 [==============================] - 0s 2ms/step - loss: 0.3915 - accuracy: 0.8413\n",
      "Epoch 33/70\n",
      "23/23 [==============================] - 0s 2ms/step - loss: 0.3921 - accuracy: 0.8343\n",
      "Epoch 34/70\n",
      "23/23 [==============================] - 0s 2ms/step - loss: 0.3922 - accuracy: 0.8399\n",
      "Epoch 35/70\n",
      "23/23 [==============================] - 0s 2ms/step - loss: 0.3900 - accuracy: 0.8315\n",
      "Epoch 36/70\n",
      "23/23 [==============================] - 0s 2ms/step - loss: 0.3898 - accuracy: 0.8399\n",
      "Epoch 37/70\n",
      "23/23 [==============================] - 0s 2ms/step - loss: 0.3890 - accuracy: 0.8385\n",
      "Epoch 38/70\n",
      "23/23 [==============================] - 0s 2ms/step - loss: 0.3868 - accuracy: 0.8385\n",
      "Epoch 39/70\n",
      "23/23 [==============================] - 0s 2ms/step - loss: 0.3880 - accuracy: 0.8287\n",
      "Epoch 40/70\n",
      "23/23 [==============================] - 0s 2ms/step - loss: 0.3898 - accuracy: 0.8399\n",
      "Epoch 41/70\n",
      "23/23 [==============================] - 0s 2ms/step - loss: 0.3853 - accuracy: 0.8385\n",
      "Epoch 42/70\n",
      "23/23 [==============================] - 0s 2ms/step - loss: 0.3856 - accuracy: 0.8399\n",
      "Epoch 43/70\n",
      "23/23 [==============================] - 0s 2ms/step - loss: 0.3837 - accuracy: 0.8413\n",
      "Epoch 44/70\n",
      "23/23 [==============================] - 0s 2ms/step - loss: 0.3814 - accuracy: 0.8413\n",
      "Epoch 45/70\n",
      "23/23 [==============================] - 0s 2ms/step - loss: 0.3818 - accuracy: 0.8455\n",
      "Epoch 46/70\n",
      "23/23 [==============================] - 0s 2ms/step - loss: 0.3807 - accuracy: 0.8399\n",
      "Epoch 47/70\n",
      "23/23 [==============================] - 0s 2ms/step - loss: 0.3813 - accuracy: 0.8427\n",
      "Epoch 48/70\n",
      "23/23 [==============================] - 0s 2ms/step - loss: 0.3784 - accuracy: 0.8413\n",
      "Epoch 49/70\n",
      "23/23 [==============================] - 0s 2ms/step - loss: 0.3820 - accuracy: 0.8413\n",
      "Epoch 50/70\n",
      "23/23 [==============================] - 0s 3ms/step - loss: 0.3777 - accuracy: 0.8427\n",
      "Epoch 51/70\n",
      "23/23 [==============================] - 0s 2ms/step - loss: 0.3774 - accuracy: 0.8427\n",
      "Epoch 52/70\n",
      "23/23 [==============================] - 0s 2ms/step - loss: 0.3782 - accuracy: 0.8399\n",
      "Epoch 53/70\n",
      "23/23 [==============================] - 0s 2ms/step - loss: 0.3753 - accuracy: 0.8455\n",
      "Epoch 54/70\n",
      "23/23 [==============================] - 0s 2ms/step - loss: 0.3746 - accuracy: 0.8455\n",
      "Epoch 55/70\n",
      "23/23 [==============================] - 0s 2ms/step - loss: 0.3740 - accuracy: 0.8483\n",
      "Epoch 56/70\n",
      "23/23 [==============================] - 0s 2ms/step - loss: 0.3742 - accuracy: 0.8455\n",
      "Epoch 57/70\n",
      "23/23 [==============================] - 0s 2ms/step - loss: 0.3746 - accuracy: 0.8427\n",
      "Epoch 58/70\n",
      "23/23 [==============================] - 0s 2ms/step - loss: 0.3728 - accuracy: 0.8539\n",
      "Epoch 59/70\n",
      "23/23 [==============================] - 0s 2ms/step - loss: 0.3730 - accuracy: 0.8483\n",
      "Epoch 60/70\n",
      "23/23 [==============================] - 0s 2ms/step - loss: 0.3717 - accuracy: 0.8567\n",
      "Epoch 61/70\n",
      "23/23 [==============================] - 0s 2ms/step - loss: 0.3698 - accuracy: 0.8525\n",
      "Epoch 62/70\n",
      "23/23 [==============================] - 0s 2ms/step - loss: 0.3688 - accuracy: 0.8567\n",
      "Epoch 63/70\n",
      "23/23 [==============================] - 0s 2ms/step - loss: 0.3709 - accuracy: 0.8511\n",
      "Epoch 64/70\n",
      "23/23 [==============================] - 0s 3ms/step - loss: 0.3683 - accuracy: 0.8511\n",
      "Epoch 65/70\n",
      "23/23 [==============================] - 0s 2ms/step - loss: 0.3669 - accuracy: 0.8581\n",
      "Epoch 66/70\n",
      "23/23 [==============================] - 0s 2ms/step - loss: 0.3669 - accuracy: 0.8567\n",
      "Epoch 67/70\n",
      "23/23 [==============================] - 0s 2ms/step - loss: 0.3650 - accuracy: 0.8596\n",
      "Epoch 68/70\n",
      "23/23 [==============================] - 0s 2ms/step - loss: 0.3646 - accuracy: 0.8567\n",
      "Epoch 69/70\n",
      "23/23 [==============================] - 0s 2ms/step - loss: 0.3637 - accuracy: 0.8553\n",
      "Epoch 70/70\n",
      "23/23 [==============================] - 0s 2ms/step - loss: 0.3635 - accuracy: 0.8624\n"
     ]
    },
    {
     "data": {
      "text/plain": [
       "<keras.callbacks.History at 0x7fad7dd06510>"
      ]
     },
     "execution_count": 58,
     "metadata": {},
     "output_type": "execute_result"
    }
   ],
   "source": [
    "X1_train = StandardScaler().fit(X_train).transform(X_train)\n",
    "\n",
    "tf.random.set_seed(42) \n",
    "NN_model = Sequential(\n",
    "    [               \n",
    "        Dense(25, activation = 'relu'),\n",
    "        Dense(10, activation = 'relu'),\n",
    "        Dense(10, activation = 'relu'),\n",
    "        Dense(5, activation = 'relu'),\n",
    "        Dense(1, activation = 'sigmoid')\n",
    "      \n",
    "    ] \n",
    ")\n",
    "\n",
    "\n",
    "NN_model.compile(\n",
    "    loss=tf.keras.losses.BinaryCrossentropy(),\n",
    "    optimizer=tf.keras.optimizers.Adam(learning_rate=0.001),\n",
    "    metrics=['accuracy']\n",
    ")\n",
    "\n",
    "NN_model.fit(\n",
    "    X1_train,y_train,\n",
    "    epochs=70\n",
    ")"
   ]
  },
  {
   "cell_type": "code",
   "execution_count": 59,
   "id": "27289c82",
   "metadata": {
    "execution": {
     "iopub.execute_input": "2022-09-17T01:45:10.698515Z",
     "iopub.status.busy": "2022-09-17T01:45:10.698118Z",
     "iopub.status.idle": "2022-09-17T01:45:10.860178Z",
     "shell.execute_reply": "2022-09-17T01:45:10.859023Z"
    },
    "papermill": {
     "duration": 0.20301,
     "end_time": "2022-09-17T01:45:10.862952",
     "exception": false,
     "start_time": "2022-09-17T01:45:10.659942",
     "status": "completed"
    },
    "tags": []
   },
   "outputs": [],
   "source": [
    "NN_predicts = NN_model.predict(X_val)"
   ]
  },
  {
   "cell_type": "code",
   "execution_count": 60,
   "id": "c9a60ead",
   "metadata": {
    "execution": {
     "iopub.execute_input": "2022-09-17T01:45:10.935959Z",
     "iopub.status.busy": "2022-09-17T01:45:10.935486Z",
     "iopub.status.idle": "2022-09-17T01:45:10.948014Z",
     "shell.execute_reply": "2022-09-17T01:45:10.946504Z"
    },
    "papermill": {
     "duration": 0.053057,
     "end_time": "2022-09-17T01:45:10.951542",
     "exception": false,
     "start_time": "2022-09-17T01:45:10.898485",
     "status": "completed"
    },
    "tags": []
   },
   "outputs": [
    {
     "name": "stdout",
     "output_type": "stream",
     "text": [
      "Score 0.8268156424581006, F1_score 0.7669172932330828\n"
     ]
    }
   ],
   "source": [
    "def b_convert(X):\n",
    "    b_predicts = []\n",
    "    for i in range(X.shape[0]):\n",
    "        if X[i] < 0.5 :\n",
    "            b_predicts.append(0)\n",
    "        else :\n",
    "            b_predicts.append(1)\n",
    "    return b_predicts\n",
    "\n",
    "b_predicts = b_convert(NN_predicts)\n",
    "Accuracy_score = accuracy_score(b_predicts, y_val.values.ravel())\n",
    "F1_score = f1_score(b_predicts, y_val.values.ravel())\n",
    "print(f\"Score {Accuracy_score}, F1_score {F1_score}\")\n"
   ]
  },
  {
   "cell_type": "markdown",
   "id": "3bad1a1d",
   "metadata": {
    "papermill": {
     "duration": 0.035459,
     "end_time": "2022-09-17T01:45:11.023490",
     "exception": false,
     "start_time": "2022-09-17T01:45:10.988031",
     "status": "completed"
    },
    "tags": []
   },
   "source": [
    "**Comparing the models above the neural network has the best accuracy and f1 scores**"
   ]
  },
  {
   "cell_type": "code",
   "execution_count": 61,
   "id": "431e4087",
   "metadata": {
    "execution": {
     "iopub.execute_input": "2022-09-17T01:45:11.097113Z",
     "iopub.status.busy": "2022-09-17T01:45:11.096100Z",
     "iopub.status.idle": "2022-09-17T01:45:11.180207Z",
     "shell.execute_reply": "2022-09-17T01:45:11.178790Z"
    },
    "papermill": {
     "duration": 0.124592,
     "end_time": "2022-09-17T01:45:11.183654",
     "exception": false,
     "start_time": "2022-09-17T01:45:11.059062",
     "status": "completed"
    },
    "tags": []
   },
   "outputs": [],
   "source": [
    "X_test = StandardScaler().fit(X_test).transform(X_test)\n",
    "predicts = NN_model.predict(X_test)\n",
    "b_predicts = b_convert(predicts)"
   ]
  },
  {
   "cell_type": "code",
   "execution_count": 62,
   "id": "931082e3",
   "metadata": {
    "execution": {
     "iopub.execute_input": "2022-09-17T01:45:11.257872Z",
     "iopub.status.busy": "2022-09-17T01:45:11.257137Z",
     "iopub.status.idle": "2022-09-17T01:45:11.268222Z",
     "shell.execute_reply": "2022-09-17T01:45:11.267114Z"
    },
    "papermill": {
     "duration": 0.051389,
     "end_time": "2022-09-17T01:45:11.270756",
     "exception": false,
     "start_time": "2022-09-17T01:45:11.219367",
     "status": "completed"
    },
    "tags": []
   },
   "outputs": [],
   "source": [
    "submission = test_data['PassengerId'].to_frame()\n",
    "submission['Survived'] = b_predicts\n",
    "submission.to_csv(f\"submission.csv\", index=False)"
   ]
  },
  {
   "cell_type": "code",
   "execution_count": 63,
   "id": "2d632c4c",
   "metadata": {
    "execution": {
     "iopub.execute_input": "2022-09-17T01:45:11.343987Z",
     "iopub.status.busy": "2022-09-17T01:45:11.343564Z",
     "iopub.status.idle": "2022-09-17T01:45:11.350562Z",
     "shell.execute_reply": "2022-09-17T01:45:11.349603Z"
    },
    "papermill": {
     "duration": 0.046505,
     "end_time": "2022-09-17T01:45:11.353057",
     "exception": false,
     "start_time": "2022-09-17T01:45:11.306552",
     "status": "completed"
    },
    "tags": []
   },
   "outputs": [],
   "source": [
    "submission.to_csv(f\"submission.csv\", index=False)"
   ]
  },
  {
   "cell_type": "code",
   "execution_count": 64,
   "id": "3046ec00",
   "metadata": {
    "execution": {
     "iopub.execute_input": "2022-09-17T01:45:11.429070Z",
     "iopub.status.busy": "2022-09-17T01:45:11.427699Z",
     "iopub.status.idle": "2022-09-17T01:45:11.443585Z",
     "shell.execute_reply": "2022-09-17T01:45:11.442237Z"
    },
    "papermill": {
     "duration": 0.05695,
     "end_time": "2022-09-17T01:45:11.446536",
     "exception": false,
     "start_time": "2022-09-17T01:45:11.389586",
     "status": "completed"
    },
    "tags": []
   },
   "outputs": [],
   "source": [
    "model_l = LogisticRegression()\n",
    "model_l.fit(StandardScaler().fit(X_train).transform(X_train), y_train.values.ravel())\n",
    "predicts = model_l.predict(StandardScaler().fit(X_val).transform(X_val))"
   ]
  }
 ],
 "metadata": {
  "kernelspec": {
   "display_name": "Python 3",
   "language": "python",
   "name": "python3"
  },
  "language_info": {
   "codemirror_mode": {
    "name": "ipython",
    "version": 3
   },
   "file_extension": ".py",
   "mimetype": "text/x-python",
   "name": "python",
   "nbconvert_exporter": "python",
   "pygments_lexer": "ipython3",
   "version": "3.7.12"
  },
  "papermill": {
   "default_parameters": {},
   "duration": 104.531094,
   "end_time": "2022-09-17T01:45:14.106559",
   "environment_variables": {},
   "exception": null,
   "input_path": "__notebook__.ipynb",
   "output_path": "__notebook__.ipynb",
   "parameters": {},
   "start_time": "2022-09-17T01:43:29.575465",
   "version": "2.3.4"
  }
 },
 "nbformat": 4,
 "nbformat_minor": 5
}
